{
 "cells": [
  {
   "cell_type": "markdown",
   "metadata": {},
   "source": [
    "# Name Prediction"
   ]
  },
  {
   "cell_type": "markdown",
   "metadata": {},
   "source": [
    "We are provided with some data of Names(Male and Female). So we need to predict out model based on this data such that it should be able to predict that the given name belongs to a male or a female."
   ]
  },
  {
   "cell_type": "markdown",
   "metadata": {},
   "source": [
    "Import the required modules."
   ]
  },
  {
   "cell_type": "code",
   "execution_count": 1,
   "metadata": {},
   "outputs": [
    {
     "name": "stderr",
     "output_type": "stream",
     "text": [
      "Using TensorFlow backend.\n"
     ]
    }
   ],
   "source": [
    "import numpy as np\n",
    "import pandas as pd\n",
    "from sklearn.model_selection import train_test_split\n",
    "import keras\n",
    "from keras.models import Sequential\n",
    "from keras.layers import Dense\n",
    "from keras.layers import Dropout\n",
    "from keras.optimizers import RMSprop\n",
    "from sklearn.preprocessing import LabelEncoder\n",
    "import matplotlib.pyplot as plt\n",
    "%matplotlib inline"
   ]
  },
  {
   "cell_type": "markdown",
   "metadata": {},
   "source": [
    "Load and store the data."
   ]
  },
  {
   "cell_type": "code",
   "execution_count": 2,
   "metadata": {
    "collapsed": true
   },
   "outputs": [],
   "source": [
    "data_male = pd.read_table(\"./Data/male.txt\",comment='#', names=['Name'])\n",
    "data_male['M_F_P'] = \"Male\"\n",
    "data_female = pd.read_table(\"./Data/female.txt\",comment='#',names=['Name'])\n",
    "data_female['M_F_P'] = \"Female\"\n",
    "#data_pet = pd.read_csv(\"./Data/pet.txt\",sep=\"\\t+\",comment='#',names=['Name','M_F_P'])"
   ]
  },
  {
   "cell_type": "markdown",
   "metadata": {},
   "source": [
    "Combine both the dataframes into one."
   ]
  },
  {
   "cell_type": "code",
   "execution_count": 3,
   "metadata": {
    "collapsed": true
   },
   "outputs": [],
   "source": [
    "data = pd.concat([data_male, data_female], ignore_index=True)"
   ]
  },
  {
   "cell_type": "markdown",
   "metadata": {},
   "source": [
    "Training function of **Keras** accepts numerical data as input so we need to convert strings( names) into some numeric form."
   ]
  },
  {
   "cell_type": "markdown",
   "metadata": {},
   "source": [
    "    Accept all names into lower case.\n",
    "    Find out ASCII value of each character.\n",
    "    And then normalize the given data."
   ]
  },
  {
   "cell_type": "code",
   "execution_count": 4,
   "metadata": {
    "collapsed": true
   },
   "outputs": [],
   "source": [
    "max_len = 0\n",
    "nums = []\n",
    "for i in data.Name:\n",
    "    nums.append([((ord(c)-96)/26) for c in i.lower()])    \n",
    "    if max_len < len(i):\n",
    "        max_len = len(i)"
   ]
  },
  {
   "cell_type": "markdown",
   "metadata": {},
   "source": [
    "Create an empty matrix to store the data of size = (maximum_length_of_any_word) * (Total_Length)\n",
    "Max. size because we need to add padding for each word to match the input nodes of our model."
   ]
  },
  {
   "cell_type": "code",
   "execution_count": 5,
   "metadata": {
    "collapsed": true
   },
   "outputs": [],
   "source": [
    "data_x = np.zeros((len(data.Name), max_len))"
   ]
  },
  {
   "cell_type": "markdown",
   "metadata": {},
   "source": [
    "Now store names(ascii values) into empty matrix."
   ]
  },
  {
   "cell_type": "code",
   "execution_count": 6,
   "metadata": {
    "collapsed": true
   },
   "outputs": [],
   "source": [
    "for i in range(0,len(nums)):\n",
    "    for j in range(0,len(nums[i])):\n",
    "        data_x[i][j] = nums[i][j]"
   ]
  },
  {
   "cell_type": "code",
   "execution_count": 7,
   "metadata": {
    "collapsed": true
   },
   "outputs": [],
   "source": [
    "data_y = data.M_F_P"
   ]
  },
  {
   "cell_type": "markdown",
   "metadata": {},
   "source": [
    "Divide training data and test data."
   ]
  },
  {
   "cell_type": "code",
   "execution_count": 8,
   "metadata": {
    "collapsed": true
   },
   "outputs": [],
   "source": [
    "X_train, X_test, y_train, y_test = train_test_split(data_x, data_y, test_size=0.20, random_state=30)"
   ]
  },
  {
   "cell_type": "code",
   "execution_count": 9,
   "metadata": {},
   "outputs": [
    {
     "data": {
      "text/plain": [
       "6355"
      ]
     },
     "execution_count": 9,
     "metadata": {},
     "output_type": "execute_result"
    }
   ],
   "source": [
    "len(X_train)"
   ]
  },
  {
   "cell_type": "markdown",
   "metadata": {},
   "source": [
    "Apply one hot coding out output data(training as well as testing)."
   ]
  },
  {
   "cell_type": "code",
   "execution_count": 10,
   "metadata": {
    "collapsed": true
   },
   "outputs": [],
   "source": [
    "encoder = LabelEncoder()\n",
    "encoder.fit(y_train)\n",
    "encoded_Y = encoder.transform(y_train)\n",
    "# convert integers to dummy variables (i.e. one hot encoded)\n",
    "train_y = keras.utils.to_categorical(encoded_Y)"
   ]
  },
  {
   "cell_type": "code",
   "execution_count": 11,
   "metadata": {
    "collapsed": true
   },
   "outputs": [],
   "source": [
    "#encoder.fit(y_train)\n",
    "encoded_Y = encoder.transform(y_test)\n",
    "# convert integers to dummy variables (i.e. one hot encoded)\n",
    "test_y = keras.utils.to_categorical(encoded_Y)"
   ]
  },
  {
   "cell_type": "code",
   "execution_count": 12,
   "metadata": {},
   "outputs": [
    {
     "data": {
      "text/plain": [
       "array([[ 1.,  0.],\n",
       "       [ 1.,  0.],\n",
       "       [ 1.,  0.],\n",
       "       ..., \n",
       "       [ 1.,  0.],\n",
       "       [ 1.,  0.],\n",
       "       [ 1.,  0.]])"
      ]
     },
     "execution_count": 12,
     "metadata": {},
     "output_type": "execute_result"
    }
   ],
   "source": [
    "test_y"
   ]
  },
  {
   "cell_type": "markdown",
   "metadata": {},
   "source": [
    "## MODEL 1 "
   ]
  },
  {
   "cell_type": "markdown",
   "metadata": {},
   "source": [
    "**--Total 4 layers.**\n",
    "    1. Input layer - 15 Nodes. i.e. Max. length of any word.\n",
    "    2. 2 hidden layers - (1st with 524 nodes and second with 1024 nodes.)\n",
    "    3. output layer - 2 Nodes (Male or Female)"
   ]
  },
  {
   "cell_type": "code",
   "execution_count": 13,
   "metadata": {
    "collapsed": true
   },
   "outputs": [],
   "source": [
    "model1 = Sequential()"
   ]
  },
  {
   "cell_type": "code",
   "execution_count": 14,
   "metadata": {
    "collapsed": true
   },
   "outputs": [],
   "source": [
    "model1.add(Dense(524, activation='relu', input_shape=(15,)))\n",
    "model1.add(Dense(1024, activation='relu'))\n",
    "model1.add(Dense(2, activation='softmax'))"
   ]
  },
  {
   "cell_type": "code",
   "execution_count": 15,
   "metadata": {},
   "outputs": [
    {
     "name": "stdout",
     "output_type": "stream",
     "text": [
      "_________________________________________________________________\n",
      "Layer (type)                 Output Shape              Param #   \n",
      "=================================================================\n",
      "dense_1 (Dense)              (None, 524)               8384      \n",
      "_________________________________________________________________\n",
      "dense_2 (Dense)              (None, 1024)              537600    \n",
      "_________________________________________________________________\n",
      "dense_3 (Dense)              (None, 2)                 2050      \n",
      "=================================================================\n",
      "Total params: 548,034\n",
      "Trainable params: 548,034\n",
      "Non-trainable params: 0\n",
      "_________________________________________________________________\n"
     ]
    }
   ],
   "source": [
    "model1.summary()"
   ]
  },
  {
   "cell_type": "code",
   "execution_count": 16,
   "metadata": {
    "collapsed": true
   },
   "outputs": [],
   "source": [
    "model1.compile(optimizer=RMSprop(),\n",
    "             loss='categorical_crossentropy',\n",
    "             metrics = ['accuracy'])"
   ]
  },
  {
   "cell_type": "code",
   "execution_count": 17,
   "metadata": {},
   "outputs": [
    {
     "name": "stdout",
     "output_type": "stream",
     "text": [
      "Train on 5084 samples, validate on 1271 samples\n",
      "Epoch 1/50\n",
      "0s - loss: 0.6585 - acc: 0.6243 - val_loss: 0.7490 - val_acc: 0.4461\n",
      "Epoch 2/50\n",
      "0s - loss: 0.6527 - acc: 0.6375 - val_loss: 0.7312 - val_acc: 0.6129\n",
      "Epoch 3/50\n",
      "0s - loss: 0.6409 - acc: 0.6503 - val_loss: 0.7701 - val_acc: 0.4540\n",
      "Epoch 4/50\n",
      "0s - loss: 0.6359 - acc: 0.6505 - val_loss: 0.6763 - val_acc: 0.6027\n",
      "Epoch 5/50\n",
      "0s - loss: 0.6316 - acc: 0.6564 - val_loss: 0.6643 - val_acc: 0.6050\n",
      "Epoch 6/50\n",
      "0s - loss: 0.6248 - acc: 0.6644 - val_loss: 0.6659 - val_acc: 0.6231\n",
      "Epoch 7/50\n",
      "0s - loss: 0.6214 - acc: 0.6707 - val_loss: 0.6656 - val_acc: 0.6310\n",
      "Epoch 8/50\n",
      "0s - loss: 0.6124 - acc: 0.6758 - val_loss: 0.6728 - val_acc: 0.6042\n",
      "Epoch 9/50\n",
      "0s - loss: 0.6100 - acc: 0.6784 - val_loss: 0.7265 - val_acc: 0.6168\n",
      "Epoch 10/50\n",
      "0s - loss: 0.6039 - acc: 0.6847 - val_loss: 0.6710 - val_acc: 0.6263\n",
      "Epoch 11/50\n",
      "0s - loss: 0.6019 - acc: 0.6810 - val_loss: 0.6749 - val_acc: 0.6090\n",
      "Epoch 12/50\n",
      "0s - loss: 0.6002 - acc: 0.6821 - val_loss: 0.6840 - val_acc: 0.5893\n",
      "Epoch 13/50\n",
      "0s - loss: 0.6008 - acc: 0.6827 - val_loss: 0.6951 - val_acc: 0.6231\n",
      "Epoch 14/50\n",
      "0s - loss: 0.5949 - acc: 0.6867 - val_loss: 0.6507 - val_acc: 0.6279\n",
      "Epoch 15/50\n",
      "0s - loss: 0.5934 - acc: 0.6908 - val_loss: 0.6798 - val_acc: 0.6184\n",
      "Epoch 16/50\n",
      "0s - loss: 0.5897 - acc: 0.6949 - val_loss: 0.7872 - val_acc: 0.5382\n",
      "Epoch 17/50\n",
      "0s - loss: 0.5927 - acc: 0.6941 - val_loss: 0.6640 - val_acc: 0.6082\n",
      "Epoch 18/50\n",
      "0s - loss: 0.5825 - acc: 0.6985 - val_loss: 0.6831 - val_acc: 0.6184\n",
      "Epoch 19/50\n",
      "0s - loss: 0.5829 - acc: 0.6973 - val_loss: 0.6803 - val_acc: 0.5972\n",
      "Epoch 20/50\n",
      "0s - loss: 0.5784 - acc: 0.7038 - val_loss: 0.7676 - val_acc: 0.5468\n",
      "Epoch 21/50\n",
      "0s - loss: 0.5841 - acc: 0.6979 - val_loss: 0.7196 - val_acc: 0.6286\n",
      "Epoch 22/50\n",
      "0s - loss: 0.5747 - acc: 0.7093 - val_loss: 0.6891 - val_acc: 0.6294\n",
      "Epoch 23/50\n",
      "0s - loss: 0.5686 - acc: 0.7081 - val_loss: 0.6749 - val_acc: 0.6255\n",
      "Epoch 24/50\n",
      "0s - loss: 0.5691 - acc: 0.7038 - val_loss: 0.6756 - val_acc: 0.6271\n",
      "Epoch 25/50\n",
      "0s - loss: 0.5689 - acc: 0.7146 - val_loss: 0.7852 - val_acc: 0.6176\n",
      "Epoch 26/50\n",
      "0s - loss: 0.5713 - acc: 0.7018 - val_loss: 0.6539 - val_acc: 0.6404\n",
      "Epoch 27/50\n",
      "0s - loss: 0.5575 - acc: 0.7152 - val_loss: 0.6996 - val_acc: 0.6098\n",
      "Epoch 28/50\n",
      "0s - loss: 0.5621 - acc: 0.7170 - val_loss: 0.6720 - val_acc: 0.6349\n",
      "Epoch 29/50\n",
      "0s - loss: 0.5563 - acc: 0.7148 - val_loss: 0.7335 - val_acc: 0.6255\n",
      "Epoch 30/50\n",
      "0s - loss: 0.5499 - acc: 0.7172 - val_loss: 0.8329 - val_acc: 0.6223\n",
      "Epoch 31/50\n",
      "0s - loss: 0.5587 - acc: 0.7221 - val_loss: 0.6979 - val_acc: 0.6349\n",
      "Epoch 32/50\n",
      "0s - loss: 0.5498 - acc: 0.7274 - val_loss: 0.7080 - val_acc: 0.6373\n",
      "Epoch 33/50\n",
      "0s - loss: 0.5467 - acc: 0.7232 - val_loss: 0.6840 - val_acc: 0.6341\n",
      "Epoch 34/50\n",
      "0s - loss: 0.5493 - acc: 0.7179 - val_loss: 0.6539 - val_acc: 0.6577\n",
      "Epoch 35/50\n",
      "0s - loss: 0.5404 - acc: 0.7276 - val_loss: 0.6798 - val_acc: 0.6271\n",
      "Epoch 36/50\n",
      "0s - loss: 0.5366 - acc: 0.7329 - val_loss: 0.7268 - val_acc: 0.5972\n",
      "Epoch 37/50\n",
      "0s - loss: 0.5365 - acc: 0.7311 - val_loss: 0.7103 - val_acc: 0.6349\n",
      "Epoch 38/50\n",
      "0s - loss: 0.5363 - acc: 0.7290 - val_loss: 0.6752 - val_acc: 0.6428\n",
      "Epoch 39/50\n",
      "0s - loss: 0.5311 - acc: 0.7390 - val_loss: 0.6861 - val_acc: 0.6577\n",
      "Epoch 40/50\n",
      "0s - loss: 0.5239 - acc: 0.7360 - val_loss: 0.7050 - val_acc: 0.6467\n",
      "Epoch 41/50\n",
      "0s - loss: 0.5260 - acc: 0.7356 - val_loss: 0.7138 - val_acc: 0.6491\n",
      "Epoch 42/50\n",
      "0s - loss: 0.5240 - acc: 0.7398 - val_loss: 0.6747 - val_acc: 0.6357\n",
      "Epoch 43/50\n",
      "0s - loss: 0.5207 - acc: 0.7417 - val_loss: 0.7128 - val_acc: 0.6412\n",
      "Epoch 44/50\n",
      "0s - loss: 0.5139 - acc: 0.7445 - val_loss: 0.7130 - val_acc: 0.6357\n",
      "Epoch 45/50\n",
      "0s - loss: 0.5093 - acc: 0.7508 - val_loss: 0.7315 - val_acc: 0.6459\n",
      "Epoch 46/50\n",
      "0s - loss: 0.5127 - acc: 0.7453 - val_loss: 0.6769 - val_acc: 0.6483\n",
      "Epoch 47/50\n",
      "0s - loss: 0.5045 - acc: 0.7516 - val_loss: 0.6888 - val_acc: 0.6467\n",
      "Epoch 48/50\n",
      "0s - loss: 0.4994 - acc: 0.7579 - val_loss: 0.7520 - val_acc: 0.6011\n",
      "Epoch 49/50\n",
      "0s - loss: 0.5098 - acc: 0.7488 - val_loss: 0.6780 - val_acc: 0.6499\n",
      "Epoch 50/50\n",
      "0s - loss: 0.5026 - acc: 0.7545 - val_loss: 0.7112 - val_acc: 0.6546\n"
     ]
    }
   ],
   "source": [
    "model_fit1 = model1.fit(X_train, \n",
    "          train_y, \n",
    "          batch_size=254,\n",
    "          epochs=50, \n",
    "          validation_split = .2,\n",
    "         verbose=2)"
   ]
  },
  {
   "cell_type": "code",
   "execution_count": 18,
   "metadata": {},
   "outputs": [
    {
     "name": "stdout",
     "output_type": "stream",
     "text": [
      "1184/1589 [=====================>........] - ETA: 0s"
     ]
    }
   ],
   "source": [
    "y_hat1 = model1.predict_classes(X_test)"
   ]
  },
  {
   "cell_type": "code",
   "execution_count": 19,
   "metadata": {
    "collapsed": true
   },
   "outputs": [],
   "source": [
    "df_pred = pd.DataFrame(y_hat1, columns=['M_F_P'])\n",
    "df_test = pd.DataFrame(y_test, columns=['M_F_P'])"
   ]
  },
  {
   "cell_type": "code",
   "execution_count": 20,
   "metadata": {
    "collapsed": true
   },
   "outputs": [],
   "source": [
    "df_test[df_test['M_F_P'] == 'Female'] = 0 \n",
    "df_test[df_test['M_F_P'] == 'Male'] = 1"
   ]
  },
  {
   "cell_type": "code",
   "execution_count": 21,
   "metadata": {},
   "outputs": [
    {
     "data": {
      "text/html": [
       "<div>\n",
       "<table border=\"1\" class=\"dataframe\">\n",
       "  <thead>\n",
       "    <tr style=\"text-align: right;\">\n",
       "      <th>M_F_P</th>\n",
       "      <th>0</th>\n",
       "      <th>1</th>\n",
       "    </tr>\n",
       "    <tr>\n",
       "      <th>row_0</th>\n",
       "      <th></th>\n",
       "      <th></th>\n",
       "    </tr>\n",
       "  </thead>\n",
       "  <tbody>\n",
       "    <tr>\n",
       "      <th>0</th>\n",
       "      <td>818</td>\n",
       "      <td>351</td>\n",
       "    </tr>\n",
       "    <tr>\n",
       "      <th>1</th>\n",
       "      <td>186</td>\n",
       "      <td>234</td>\n",
       "    </tr>\n",
       "  </tbody>\n",
       "</table>\n",
       "</div>"
      ],
      "text/plain": [
       "M_F_P    0    1\n",
       "row_0          \n",
       "0      818  351\n",
       "1      186  234"
      ]
     },
     "execution_count": 21,
     "metadata": {},
     "output_type": "execute_result"
    }
   ],
   "source": [
    "pd.crosstab(y_hat1, df_test['M_F_P'])"
   ]
  },
  {
   "cell_type": "code",
   "execution_count": 22,
   "metadata": {},
   "outputs": [
    {
     "data": {
      "text/plain": [
       "537"
      ]
     },
     "execution_count": 22,
     "metadata": {},
     "output_type": "execute_result"
    }
   ],
   "source": [
    "test_wrong = [im for im in zip(X_test, y_hat1, df_test['M_F_P']) if im[1] != im[2]]\n",
    "len(test_wrong)"
   ]
  },
  {
   "cell_type": "code",
   "execution_count": 23,
   "metadata": {
    "collapsed": true
   },
   "outputs": [],
   "source": [
    "model1_acc = model_fit1.history['acc']"
   ]
  },
  {
   "cell_type": "markdown",
   "metadata": {
    "collapsed": true
   },
   "source": [
    "## MODEL 2"
   ]
  },
  {
   "cell_type": "code",
   "execution_count": 24,
   "metadata": {
    "collapsed": true
   },
   "outputs": [],
   "source": [
    "model2 = Sequential()"
   ]
  },
  {
   "cell_type": "code",
   "execution_count": 25,
   "metadata": {
    "collapsed": true
   },
   "outputs": [],
   "source": [
    "model2.add(Dense(254, activation='relu', input_shape=(15,)))\n",
    "#model2.add(Dense(1024, activation='relu'))\n",
    "model2.add(Dense(2, activation='softmax'))"
   ]
  },
  {
   "cell_type": "code",
   "execution_count": 26,
   "metadata": {},
   "outputs": [
    {
     "name": "stdout",
     "output_type": "stream",
     "text": [
      "_________________________________________________________________\n",
      "Layer (type)                 Output Shape              Param #   \n",
      "=================================================================\n",
      "dense_4 (Dense)              (None, 254)               4064      \n",
      "_________________________________________________________________\n",
      "dense_5 (Dense)              (None, 2)                 510       \n",
      "=================================================================\n",
      "Total params: 4,574\n",
      "Trainable params: 4,574\n",
      "Non-trainable params: 0\n",
      "_________________________________________________________________\n"
     ]
    }
   ],
   "source": [
    "model2.summary()"
   ]
  },
  {
   "cell_type": "code",
   "execution_count": 27,
   "metadata": {
    "collapsed": true
   },
   "outputs": [],
   "source": [
    "model2.compile(optimizer=RMSprop(),\n",
    "             loss='categorical_crossentropy',\n",
    "             metrics = ['accuracy'])"
   ]
  },
  {
   "cell_type": "code",
   "execution_count": 28,
   "metadata": {},
   "outputs": [
    {
     "name": "stdout",
     "output_type": "stream",
     "text": [
      "Train on 5084 samples, validate on 1271 samples\n",
      "Epoch 1/50\n",
      "0s - loss: 0.6673 - acc: 0.6094 - val_loss: 0.6677 - val_acc: 0.6090\n",
      "Epoch 2/50\n",
      "0s - loss: 0.6530 - acc: 0.6353 - val_loss: 0.6765 - val_acc: 0.6090\n",
      "Epoch 3/50\n",
      "0s - loss: 0.6498 - acc: 0.6373 - val_loss: 0.6746 - val_acc: 0.6098\n",
      "Epoch 4/50\n",
      "0s - loss: 0.6470 - acc: 0.6389 - val_loss: 0.6641 - val_acc: 0.6200\n",
      "Epoch 5/50\n",
      "0s - loss: 0.6448 - acc: 0.6454 - val_loss: 0.6644 - val_acc: 0.6153\n",
      "Epoch 6/50\n",
      "0s - loss: 0.6423 - acc: 0.6463 - val_loss: 0.6634 - val_acc: 0.6192\n",
      "Epoch 7/50\n",
      "0s - loss: 0.6408 - acc: 0.6475 - val_loss: 0.6693 - val_acc: 0.6129\n",
      "Epoch 8/50\n",
      "0s - loss: 0.6393 - acc: 0.6517 - val_loss: 0.6664 - val_acc: 0.6176\n",
      "Epoch 9/50\n",
      "0s - loss: 0.6374 - acc: 0.6493 - val_loss: 0.6732 - val_acc: 0.6129\n",
      "Epoch 10/50\n",
      "0s - loss: 0.6362 - acc: 0.6503 - val_loss: 0.6598 - val_acc: 0.6255\n",
      "Epoch 11/50\n",
      "0s - loss: 0.6350 - acc: 0.6570 - val_loss: 0.6588 - val_acc: 0.6255\n",
      "Epoch 12/50\n",
      "0s - loss: 0.6331 - acc: 0.6546 - val_loss: 0.6746 - val_acc: 0.6121\n",
      "Epoch 13/50\n",
      "0s - loss: 0.6331 - acc: 0.6550 - val_loss: 0.6593 - val_acc: 0.6192\n",
      "Epoch 14/50\n",
      "0s - loss: 0.6307 - acc: 0.6576 - val_loss: 0.6612 - val_acc: 0.6192\n",
      "Epoch 15/50\n",
      "0s - loss: 0.6306 - acc: 0.6574 - val_loss: 0.6675 - val_acc: 0.6184\n",
      "Epoch 16/50\n",
      "0s - loss: 0.6291 - acc: 0.6577 - val_loss: 0.6645 - val_acc: 0.6176\n",
      "Epoch 17/50\n",
      "0s - loss: 0.6286 - acc: 0.6601 - val_loss: 0.6566 - val_acc: 0.6263\n",
      "Epoch 18/50\n",
      "0s - loss: 0.6265 - acc: 0.6609 - val_loss: 0.6658 - val_acc: 0.6200\n",
      "Epoch 19/50\n",
      "0s - loss: 0.6260 - acc: 0.6607 - val_loss: 0.6591 - val_acc: 0.6271\n",
      "Epoch 20/50\n",
      "0s - loss: 0.6247 - acc: 0.6605 - val_loss: 0.6610 - val_acc: 0.6200\n",
      "Epoch 21/50\n",
      "0s - loss: 0.6245 - acc: 0.6640 - val_loss: 0.6645 - val_acc: 0.6302\n",
      "Epoch 22/50\n",
      "0s - loss: 0.6240 - acc: 0.6656 - val_loss: 0.6597 - val_acc: 0.6239\n",
      "Epoch 23/50\n",
      "0s - loss: 0.6237 - acc: 0.6646 - val_loss: 0.6555 - val_acc: 0.6326\n",
      "Epoch 24/50\n",
      "0s - loss: 0.6214 - acc: 0.6662 - val_loss: 0.6556 - val_acc: 0.6310\n",
      "Epoch 25/50\n",
      "0s - loss: 0.6209 - acc: 0.6660 - val_loss: 0.6603 - val_acc: 0.6176\n",
      "Epoch 26/50\n",
      "0s - loss: 0.6204 - acc: 0.6684 - val_loss: 0.6609 - val_acc: 0.6263\n",
      "Epoch 27/50\n",
      "0s - loss: 0.6186 - acc: 0.6692 - val_loss: 0.6650 - val_acc: 0.5987\n",
      "Epoch 28/50\n",
      "0s - loss: 0.6197 - acc: 0.6676 - val_loss: 0.6544 - val_acc: 0.6381\n",
      "Epoch 29/50\n",
      "0s - loss: 0.6179 - acc: 0.6723 - val_loss: 0.6531 - val_acc: 0.6349\n",
      "Epoch 30/50\n",
      "0s - loss: 0.6174 - acc: 0.6719 - val_loss: 0.6550 - val_acc: 0.6294\n",
      "Epoch 31/50\n",
      "0s - loss: 0.6161 - acc: 0.6735 - val_loss: 0.6601 - val_acc: 0.6176\n",
      "Epoch 32/50\n",
      "0s - loss: 0.6168 - acc: 0.6731 - val_loss: 0.6545 - val_acc: 0.6341\n",
      "Epoch 33/50\n",
      "0s - loss: 0.6146 - acc: 0.6709 - val_loss: 0.6535 - val_acc: 0.6357\n",
      "Epoch 34/50\n",
      "0s - loss: 0.6140 - acc: 0.6737 - val_loss: 0.6575 - val_acc: 0.6310\n",
      "Epoch 35/50\n",
      "0s - loss: 0.6131 - acc: 0.6731 - val_loss: 0.6713 - val_acc: 0.6192\n",
      "Epoch 36/50\n",
      "0s - loss: 0.6142 - acc: 0.6713 - val_loss: 0.6547 - val_acc: 0.6373\n",
      "Epoch 37/50\n",
      "0s - loss: 0.6114 - acc: 0.6782 - val_loss: 0.6601 - val_acc: 0.6247\n",
      "Epoch 38/50\n",
      "0s - loss: 0.6111 - acc: 0.6751 - val_loss: 0.6525 - val_acc: 0.6318\n",
      "Epoch 39/50\n",
      "0s - loss: 0.6114 - acc: 0.6786 - val_loss: 0.6519 - val_acc: 0.6334\n",
      "Epoch 40/50\n",
      "0s - loss: 0.6103 - acc: 0.6776 - val_loss: 0.6581 - val_acc: 0.6216\n",
      "Epoch 41/50\n",
      "0s - loss: 0.6102 - acc: 0.6727 - val_loss: 0.6531 - val_acc: 0.6334\n",
      "Epoch 42/50\n",
      "0s - loss: 0.6085 - acc: 0.6796 - val_loss: 0.6554 - val_acc: 0.6326\n",
      "Epoch 43/50\n",
      "0s - loss: 0.6080 - acc: 0.6823 - val_loss: 0.6538 - val_acc: 0.6334\n",
      "Epoch 44/50\n",
      "0s - loss: 0.6072 - acc: 0.6802 - val_loss: 0.6544 - val_acc: 0.6279\n",
      "Epoch 45/50\n",
      "0s - loss: 0.6069 - acc: 0.6794 - val_loss: 0.6527 - val_acc: 0.6365\n",
      "Epoch 46/50\n",
      "0s - loss: 0.6065 - acc: 0.6819 - val_loss: 0.6544 - val_acc: 0.6255\n",
      "Epoch 47/50\n",
      "0s - loss: 0.6068 - acc: 0.6806 - val_loss: 0.6560 - val_acc: 0.6389\n",
      "Epoch 48/50\n",
      "0s - loss: 0.6052 - acc: 0.6821 - val_loss: 0.6939 - val_acc: 0.6153\n",
      "Epoch 49/50\n",
      "0s - loss: 0.6066 - acc: 0.6806 - val_loss: 0.6513 - val_acc: 0.6373\n",
      "Epoch 50/50\n",
      "0s - loss: 0.6036 - acc: 0.6843 - val_loss: 0.6731 - val_acc: 0.6208\n"
     ]
    }
   ],
   "source": [
    "model_fit2 = model2.fit(X_train, \n",
    "          train_y, \n",
    "          batch_size=254,\n",
    "          epochs=50, \n",
    "          validation_split = .2,\n",
    "         verbose=2)"
   ]
  },
  {
   "cell_type": "code",
   "execution_count": 29,
   "metadata": {},
   "outputs": [
    {
     "name": "stdout",
     "output_type": "stream",
     "text": [
      "\r",
      "  32/1589 [..............................] - ETA: 1s"
     ]
    }
   ],
   "source": [
    "y_hat2 = model2.predict_classes(X_test)"
   ]
  },
  {
   "cell_type": "code",
   "execution_count": 30,
   "metadata": {},
   "outputs": [
    {
     "data": {
      "text/html": [
       "<div>\n",
       "<table border=\"1\" class=\"dataframe\">\n",
       "  <thead>\n",
       "    <tr style=\"text-align: right;\">\n",
       "      <th>M_F_P</th>\n",
       "      <th>0</th>\n",
       "      <th>1</th>\n",
       "    </tr>\n",
       "    <tr>\n",
       "      <th>row_0</th>\n",
       "      <th></th>\n",
       "      <th></th>\n",
       "    </tr>\n",
       "  </thead>\n",
       "  <tbody>\n",
       "    <tr>\n",
       "      <th>0</th>\n",
       "      <td>967</td>\n",
       "      <td>523</td>\n",
       "    </tr>\n",
       "    <tr>\n",
       "      <th>1</th>\n",
       "      <td>37</td>\n",
       "      <td>62</td>\n",
       "    </tr>\n",
       "  </tbody>\n",
       "</table>\n",
       "</div>"
      ],
      "text/plain": [
       "M_F_P    0    1\n",
       "row_0          \n",
       "0      967  523\n",
       "1       37   62"
      ]
     },
     "execution_count": 30,
     "metadata": {},
     "output_type": "execute_result"
    }
   ],
   "source": [
    "pd.crosstab(y_hat2, df_test['M_F_P'])"
   ]
  },
  {
   "cell_type": "code",
   "execution_count": 31,
   "metadata": {},
   "outputs": [
    {
     "data": {
      "text/plain": [
       "560"
      ]
     },
     "execution_count": 31,
     "metadata": {},
     "output_type": "execute_result"
    }
   ],
   "source": [
    "test_wrong = [im for im in zip(X_test, y_hat2, df_test['M_F_P']) if im[1] != im[2]]\n",
    "len(test_wrong)"
   ]
  },
  {
   "cell_type": "code",
   "execution_count": 32,
   "metadata": {
    "collapsed": true
   },
   "outputs": [],
   "source": [
    "model2_acc = model_fit2.history['acc']"
   ]
  },
  {
   "cell_type": "markdown",
   "metadata": {},
   "source": [
    "## MODEL 3"
   ]
  },
  {
   "cell_type": "code",
   "execution_count": 33,
   "metadata": {
    "collapsed": true
   },
   "outputs": [],
   "source": [
    "model3 = Sequential()"
   ]
  },
  {
   "cell_type": "code",
   "execution_count": 34,
   "metadata": {
    "collapsed": true
   },
   "outputs": [],
   "source": [
    "model3.add(Dense(1024, activation='relu', input_shape=(15,)))\n",
    "model3.add(Dense(524, activation='relu'))\n",
    "model3.add(Dense(1024, activation='relu'))\n",
    "model3.add(Dense(2, activation='softmax'))"
   ]
  },
  {
   "cell_type": "code",
   "execution_count": 35,
   "metadata": {},
   "outputs": [
    {
     "name": "stdout",
     "output_type": "stream",
     "text": [
      "_________________________________________________________________\n",
      "Layer (type)                 Output Shape              Param #   \n",
      "=================================================================\n",
      "dense_6 (Dense)              (None, 1024)              16384     \n",
      "_________________________________________________________________\n",
      "dense_7 (Dense)              (None, 524)               537100    \n",
      "_________________________________________________________________\n",
      "dense_8 (Dense)              (None, 1024)              537600    \n",
      "_________________________________________________________________\n",
      "dense_9 (Dense)              (None, 2)                 2050      \n",
      "=================================================================\n",
      "Total params: 1,093,134\n",
      "Trainable params: 1,093,134\n",
      "Non-trainable params: 0\n",
      "_________________________________________________________________\n"
     ]
    }
   ],
   "source": [
    "model3.summary()"
   ]
  },
  {
   "cell_type": "code",
   "execution_count": 36,
   "metadata": {
    "collapsed": true
   },
   "outputs": [],
   "source": [
    "model3.compile(optimizer=RMSprop(),\n",
    "             loss='categorical_crossentropy',\n",
    "             metrics = ['accuracy'])"
   ]
  },
  {
   "cell_type": "code",
   "execution_count": 37,
   "metadata": {},
   "outputs": [
    {
     "name": "stdout",
     "output_type": "stream",
     "text": [
      "Train on 5084 samples, validate on 1271 samples\n",
      "Epoch 1/50\n",
      "1s - loss: 0.6672 - acc: 0.6212 - val_loss: 0.6709 - val_acc: 0.6090\n",
      "Epoch 2/50\n",
      "1s - loss: 0.6506 - acc: 0.6420 - val_loss: 0.6941 - val_acc: 0.6129\n",
      "Epoch 3/50\n",
      "1s - loss: 0.6394 - acc: 0.6456 - val_loss: 0.6894 - val_acc: 0.6200\n",
      "Epoch 4/50\n",
      "1s - loss: 0.6355 - acc: 0.6534 - val_loss: 0.7203 - val_acc: 0.5610\n",
      "Epoch 5/50\n",
      "1s - loss: 0.6251 - acc: 0.6648 - val_loss: 0.6726 - val_acc: 0.6192\n",
      "Epoch 6/50\n",
      "1s - loss: 0.6212 - acc: 0.6674 - val_loss: 0.6699 - val_acc: 0.6168\n",
      "Epoch 7/50\n",
      "1s - loss: 0.6227 - acc: 0.6566 - val_loss: 0.7128 - val_acc: 0.5114\n",
      "Epoch 8/50\n",
      "1s - loss: 0.6181 - acc: 0.6668 - val_loss: 0.7827 - val_acc: 0.6176\n",
      "Epoch 9/50\n",
      "1s - loss: 0.6121 - acc: 0.6819 - val_loss: 0.7732 - val_acc: 0.6176\n",
      "Epoch 10/50\n",
      "1s - loss: 0.6028 - acc: 0.6823 - val_loss: 0.7079 - val_acc: 0.6113\n",
      "Epoch 11/50\n",
      "1s - loss: 0.5963 - acc: 0.6898 - val_loss: 0.6940 - val_acc: 0.6161\n",
      "Epoch 12/50\n",
      "1s - loss: 0.5888 - acc: 0.6951 - val_loss: 0.6748 - val_acc: 0.6003\n",
      "Epoch 13/50\n",
      "1s - loss: 0.5834 - acc: 0.6959 - val_loss: 0.6915 - val_acc: 0.6192\n",
      "Epoch 14/50\n",
      "1s - loss: 0.5836 - acc: 0.7008 - val_loss: 0.6568 - val_acc: 0.6373\n",
      "Epoch 15/50\n",
      "1s - loss: 0.5745 - acc: 0.7065 - val_loss: 0.7396 - val_acc: 0.6341\n",
      "Epoch 16/50\n",
      "1s - loss: 0.5700 - acc: 0.7103 - val_loss: 0.6832 - val_acc: 0.6349\n",
      "Epoch 17/50\n",
      "1s - loss: 0.5643 - acc: 0.7172 - val_loss: 0.6877 - val_acc: 0.6042\n",
      "Epoch 18/50\n",
      "1s - loss: 0.5584 - acc: 0.7219 - val_loss: 0.7507 - val_acc: 0.6326\n",
      "Epoch 19/50\n",
      "1s - loss: 0.5560 - acc: 0.7209 - val_loss: 0.7405 - val_acc: 0.5594\n",
      "Epoch 20/50\n",
      "1s - loss: 0.5524 - acc: 0.7244 - val_loss: 0.8190 - val_acc: 0.6286\n",
      "Epoch 21/50\n",
      "1s - loss: 0.5510 - acc: 0.7244 - val_loss: 0.7220 - val_acc: 0.6404\n",
      "Epoch 22/50\n",
      "1s - loss: 0.5333 - acc: 0.7327 - val_loss: 0.6804 - val_acc: 0.6452\n",
      "Epoch 23/50\n",
      "1s - loss: 0.5376 - acc: 0.7305 - val_loss: 0.7205 - val_acc: 0.6404\n",
      "Epoch 24/50\n",
      "1s - loss: 0.5282 - acc: 0.7345 - val_loss: 0.7804 - val_acc: 0.6011\n",
      "Epoch 25/50\n",
      "1s - loss: 0.5270 - acc: 0.7354 - val_loss: 0.8627 - val_acc: 0.6302\n",
      "Epoch 26/50\n",
      "1s - loss: 0.5203 - acc: 0.7400 - val_loss: 0.7695 - val_acc: 0.5932\n",
      "Epoch 27/50\n",
      "1s - loss: 0.5150 - acc: 0.7425 - val_loss: 0.8673 - val_acc: 0.6341\n",
      "Epoch 28/50\n",
      "1s - loss: 0.5193 - acc: 0.7431 - val_loss: 0.7063 - val_acc: 0.6444\n",
      "Epoch 29/50\n",
      "1s - loss: 0.5083 - acc: 0.7480 - val_loss: 0.7688 - val_acc: 0.6216\n",
      "Epoch 30/50\n",
      "1s - loss: 0.5008 - acc: 0.7498 - val_loss: 0.7914 - val_acc: 0.6334\n",
      "Epoch 31/50\n",
      "1s - loss: 0.5014 - acc: 0.7569 - val_loss: 0.7182 - val_acc: 0.6397\n",
      "Epoch 32/50\n",
      "1s - loss: 0.4826 - acc: 0.7598 - val_loss: 0.7297 - val_acc: 0.6365\n",
      "Epoch 33/50\n",
      "1s - loss: 0.4851 - acc: 0.7653 - val_loss: 0.7919 - val_acc: 0.5980\n",
      "Epoch 34/50\n",
      "1s - loss: 0.4793 - acc: 0.7693 - val_loss: 0.7908 - val_acc: 0.6404\n",
      "Epoch 35/50\n",
      "1s - loss: 0.4676 - acc: 0.7764 - val_loss: 0.8426 - val_acc: 0.6475\n",
      "Epoch 36/50\n",
      "1s - loss: 0.4814 - acc: 0.7653 - val_loss: 0.8736 - val_acc: 0.6507\n",
      "Epoch 37/50\n",
      "1s - loss: 0.4678 - acc: 0.7701 - val_loss: 0.8270 - val_acc: 0.6223\n",
      "Epoch 38/50\n",
      "1s - loss: 0.4653 - acc: 0.7712 - val_loss: 0.8838 - val_acc: 0.6255\n",
      "Epoch 39/50\n",
      "1s - loss: 0.4725 - acc: 0.7734 - val_loss: 1.0091 - val_acc: 0.6538\n",
      "Epoch 40/50\n",
      "1s - loss: 0.4514 - acc: 0.7874 - val_loss: 0.8230 - val_acc: 0.6113\n",
      "Epoch 41/50\n",
      "1s - loss: 0.4463 - acc: 0.7823 - val_loss: 0.7835 - val_acc: 0.6530\n",
      "Epoch 42/50\n",
      "1s - loss: 0.4482 - acc: 0.7811 - val_loss: 0.7719 - val_acc: 0.6318\n",
      "Epoch 43/50\n",
      "1s - loss: 0.4349 - acc: 0.7882 - val_loss: 0.9972 - val_acc: 0.6326\n",
      "Epoch 44/50\n",
      "1s - loss: 0.4267 - acc: 0.7998 - val_loss: 1.0272 - val_acc: 0.6113\n",
      "Epoch 45/50\n",
      "1s - loss: 0.4291 - acc: 0.7925 - val_loss: 0.8235 - val_acc: 0.6389\n",
      "Epoch 46/50\n",
      "1s - loss: 0.4244 - acc: 0.7925 - val_loss: 0.8718 - val_acc: 0.6231\n",
      "Epoch 47/50\n",
      "1s - loss: 0.4208 - acc: 0.7984 - val_loss: 0.9463 - val_acc: 0.6491\n",
      "Epoch 48/50\n",
      "1s - loss: 0.4192 - acc: 0.8000 - val_loss: 1.0476 - val_acc: 0.6554\n",
      "Epoch 49/50\n",
      "1s - loss: 0.4117 - acc: 0.8072 - val_loss: 0.9805 - val_acc: 0.6302\n",
      "Epoch 50/50\n",
      "1s - loss: 0.4137 - acc: 0.8021 - val_loss: 0.8995 - val_acc: 0.6625\n"
     ]
    }
   ],
   "source": [
    "model_fit3 = model3.fit(X_train, \n",
    "          train_y, \n",
    "          batch_size=254,\n",
    "          epochs=50, \n",
    "          validation_split = .2,\n",
    "         verbose=2)"
   ]
  },
  {
   "cell_type": "code",
   "execution_count": 38,
   "metadata": {},
   "outputs": [
    {
     "name": "stdout",
     "output_type": "stream",
     "text": [
      "1504/1589 [===========================>..] - ETA: 0s"
     ]
    }
   ],
   "source": [
    "y_hat3 = model3.predict_classes(X_test)"
   ]
  },
  {
   "cell_type": "code",
   "execution_count": 39,
   "metadata": {},
   "outputs": [
    {
     "data": {
      "text/html": [
       "<div>\n",
       "<table border=\"1\" class=\"dataframe\">\n",
       "  <thead>\n",
       "    <tr style=\"text-align: right;\">\n",
       "      <th>M_F_P</th>\n",
       "      <th>0</th>\n",
       "      <th>1</th>\n",
       "    </tr>\n",
       "    <tr>\n",
       "      <th>row_0</th>\n",
       "      <th></th>\n",
       "      <th></th>\n",
       "    </tr>\n",
       "  </thead>\n",
       "  <tbody>\n",
       "    <tr>\n",
       "      <th>0</th>\n",
       "      <td>728</td>\n",
       "      <td>243</td>\n",
       "    </tr>\n",
       "    <tr>\n",
       "      <th>1</th>\n",
       "      <td>276</td>\n",
       "      <td>342</td>\n",
       "    </tr>\n",
       "  </tbody>\n",
       "</table>\n",
       "</div>"
      ],
      "text/plain": [
       "M_F_P    0    1\n",
       "row_0          \n",
       "0      728  243\n",
       "1      276  342"
      ]
     },
     "execution_count": 39,
     "metadata": {},
     "output_type": "execute_result"
    }
   ],
   "source": [
    "pd.crosstab(y_hat3, df_test['M_F_P'])"
   ]
  },
  {
   "cell_type": "code",
   "execution_count": 40,
   "metadata": {},
   "outputs": [
    {
     "data": {
      "text/plain": [
       "519"
      ]
     },
     "execution_count": 40,
     "metadata": {},
     "output_type": "execute_result"
    }
   ],
   "source": [
    "test_wrong = [im for im in zip(X_test, y_hat3, df_test['M_F_P']) if im[1] != im[2]]\n",
    "len(test_wrong)"
   ]
  },
  {
   "cell_type": "code",
   "execution_count": 41,
   "metadata": {
    "collapsed": true
   },
   "outputs": [],
   "source": [
    "model3_acc = model_fit3.history['acc']"
   ]
  },
  {
   "cell_type": "markdown",
   "metadata": {},
   "source": [
    "## MODEL 4"
   ]
  },
  {
   "cell_type": "code",
   "execution_count": 42,
   "metadata": {
    "collapsed": true
   },
   "outputs": [],
   "source": [
    "model4 = Sequential()\n",
    "model4.add(Dense(300, activation='relu', input_shape=(15,)))\n",
    "model4.add(Dense(524, activation='relu'))\n",
    "model4.add(Dense(2, activation='softmax'))"
   ]
  },
  {
   "cell_type": "code",
   "execution_count": 43,
   "metadata": {},
   "outputs": [
    {
     "name": "stdout",
     "output_type": "stream",
     "text": [
      "_________________________________________________________________\n",
      "Layer (type)                 Output Shape              Param #   \n",
      "=================================================================\n",
      "dense_10 (Dense)             (None, 300)               4800      \n",
      "_________________________________________________________________\n",
      "dense_11 (Dense)             (None, 524)               157724    \n",
      "_________________________________________________________________\n",
      "dense_12 (Dense)             (None, 2)                 1050      \n",
      "=================================================================\n",
      "Total params: 163,574\n",
      "Trainable params: 163,574\n",
      "Non-trainable params: 0\n",
      "_________________________________________________________________\n"
     ]
    }
   ],
   "source": [
    "model4.summary()"
   ]
  },
  {
   "cell_type": "code",
   "execution_count": 44,
   "metadata": {},
   "outputs": [
    {
     "name": "stdout",
     "output_type": "stream",
     "text": [
      "Train on 5084 samples, validate on 1271 samples\n",
      "Epoch 1/50\n",
      "0s - loss: 0.6567 - acc: 0.6275 - val_loss: 0.6798 - val_acc: 0.5814\n",
      "Epoch 2/50\n",
      "0s - loss: 0.6475 - acc: 0.6432 - val_loss: 0.6660 - val_acc: 0.6082\n",
      "Epoch 3/50\n",
      "0s - loss: 0.6377 - acc: 0.6520 - val_loss: 0.6705 - val_acc: 0.6019\n",
      "Epoch 4/50\n",
      "0s - loss: 0.6338 - acc: 0.6548 - val_loss: 0.7267 - val_acc: 0.6121\n",
      "Epoch 5/50\n",
      "0s - loss: 0.6319 - acc: 0.6603 - val_loss: 0.7629 - val_acc: 0.4618\n",
      "Epoch 6/50\n",
      "0s - loss: 0.6319 - acc: 0.6572 - val_loss: 0.6721 - val_acc: 0.6239\n",
      "Epoch 7/50\n",
      "0s - loss: 0.6217 - acc: 0.6676 - val_loss: 0.8076 - val_acc: 0.6082\n",
      "Epoch 8/50\n",
      "0s - loss: 0.6269 - acc: 0.6674 - val_loss: 0.7982 - val_acc: 0.6082\n",
      "Epoch 9/50\n",
      "0s - loss: 0.6209 - acc: 0.6770 - val_loss: 0.6538 - val_acc: 0.6341\n",
      "Epoch 10/50\n",
      "0s - loss: 0.6114 - acc: 0.6741 - val_loss: 0.6816 - val_acc: 0.6082\n",
      "Epoch 11/50\n",
      "0s - loss: 0.6102 - acc: 0.6792 - val_loss: 0.6927 - val_acc: 0.5602\n",
      "Epoch 12/50\n",
      "0s - loss: 0.6059 - acc: 0.6790 - val_loss: 0.6910 - val_acc: 0.6223\n",
      "Epoch 13/50\n",
      "0s - loss: 0.6036 - acc: 0.6845 - val_loss: 0.6797 - val_acc: 0.6373\n",
      "Epoch 14/50\n",
      "0s - loss: 0.6028 - acc: 0.6819 - val_loss: 0.6951 - val_acc: 0.6192\n",
      "Epoch 15/50\n",
      "0s - loss: 0.5999 - acc: 0.6851 - val_loss: 0.6718 - val_acc: 0.6412\n",
      "Epoch 16/50\n",
      "0s - loss: 0.5963 - acc: 0.6880 - val_loss: 0.6851 - val_acc: 0.6168\n",
      "Epoch 17/50\n",
      "0s - loss: 0.5953 - acc: 0.6906 - val_loss: 0.6784 - val_acc: 0.5885\n",
      "Epoch 18/50\n",
      "0s - loss: 0.5922 - acc: 0.6914 - val_loss: 0.7148 - val_acc: 0.5767\n",
      "Epoch 19/50\n",
      "0s - loss: 0.5950 - acc: 0.6904 - val_loss: 0.8259 - val_acc: 0.6066\n",
      "Epoch 20/50\n",
      "0s - loss: 0.5931 - acc: 0.6918 - val_loss: 0.6686 - val_acc: 0.6090\n",
      "Epoch 21/50\n",
      "0s - loss: 0.5887 - acc: 0.6918 - val_loss: 0.6759 - val_acc: 0.6341\n",
      "Epoch 22/50\n",
      "0s - loss: 0.5856 - acc: 0.6937 - val_loss: 0.6779 - val_acc: 0.6357\n",
      "Epoch 23/50\n",
      "0s - loss: 0.5848 - acc: 0.6991 - val_loss: 0.6685 - val_acc: 0.6208\n",
      "Epoch 24/50\n",
      "0s - loss: 0.5841 - acc: 0.7014 - val_loss: 0.7443 - val_acc: 0.5586\n",
      "Epoch 25/50\n",
      "0s - loss: 0.5811 - acc: 0.6994 - val_loss: 0.6572 - val_acc: 0.6381\n",
      "Epoch 26/50\n",
      "0s - loss: 0.5752 - acc: 0.7054 - val_loss: 0.6579 - val_acc: 0.6420\n",
      "Epoch 27/50\n",
      "0s - loss: 0.5759 - acc: 0.7063 - val_loss: 0.7040 - val_acc: 0.6279\n",
      "Epoch 28/50\n",
      "0s - loss: 0.5748 - acc: 0.7018 - val_loss: 0.6660 - val_acc: 0.6428\n",
      "Epoch 29/50\n",
      "0s - loss: 0.5702 - acc: 0.7061 - val_loss: 0.7753 - val_acc: 0.6161\n",
      "Epoch 30/50\n",
      "0s - loss: 0.5697 - acc: 0.7057 - val_loss: 0.6877 - val_acc: 0.6184\n",
      "Epoch 31/50\n",
      "0s - loss: 0.5657 - acc: 0.7089 - val_loss: 0.7469 - val_acc: 0.6310\n",
      "Epoch 32/50\n",
      "0s - loss: 0.5666 - acc: 0.7116 - val_loss: 0.7623 - val_acc: 0.5397\n",
      "Epoch 33/50\n",
      "0s - loss: 0.5637 - acc: 0.7065 - val_loss: 0.6636 - val_acc: 0.6239\n",
      "Epoch 34/50\n",
      "0s - loss: 0.5578 - acc: 0.7207 - val_loss: 0.7524 - val_acc: 0.5397\n",
      "Epoch 35/50\n",
      "0s - loss: 0.5636 - acc: 0.7089 - val_loss: 0.7005 - val_acc: 0.6050\n",
      "Epoch 36/50\n",
      "0s - loss: 0.5589 - acc: 0.7154 - val_loss: 0.8032 - val_acc: 0.6129\n",
      "Epoch 37/50\n",
      "0s - loss: 0.5622 - acc: 0.7095 - val_loss: 0.8112 - val_acc: 0.6184\n",
      "Epoch 38/50\n",
      "0s - loss: 0.5609 - acc: 0.7164 - val_loss: 0.6883 - val_acc: 0.6121\n",
      "Epoch 39/50\n",
      "0s - loss: 0.5513 - acc: 0.7229 - val_loss: 0.7308 - val_acc: 0.5901\n",
      "Epoch 40/50\n",
      "0s - loss: 0.5571 - acc: 0.7134 - val_loss: 0.6830 - val_acc: 0.6239\n",
      "Epoch 41/50\n",
      "0s - loss: 0.5452 - acc: 0.7252 - val_loss: 0.7620 - val_acc: 0.6247\n",
      "Epoch 42/50\n",
      "0s - loss: 0.5532 - acc: 0.7234 - val_loss: 0.8035 - val_acc: 0.6137\n",
      "Epoch 43/50\n",
      "0s - loss: 0.5523 - acc: 0.7211 - val_loss: 0.6978 - val_acc: 0.6436\n",
      "Epoch 44/50\n",
      "0s - loss: 0.5412 - acc: 0.7295 - val_loss: 0.6657 - val_acc: 0.6444\n",
      "Epoch 45/50\n",
      "0s - loss: 0.5488 - acc: 0.7207 - val_loss: 0.6736 - val_acc: 0.6184\n",
      "Epoch 46/50\n",
      "0s - loss: 0.5410 - acc: 0.7297 - val_loss: 0.8135 - val_acc: 0.6168\n",
      "Epoch 47/50\n",
      "0s - loss: 0.5432 - acc: 0.7254 - val_loss: 0.7013 - val_acc: 0.6105\n",
      "Epoch 48/50\n",
      "0s - loss: 0.5386 - acc: 0.7256 - val_loss: 0.6776 - val_acc: 0.6192\n",
      "Epoch 49/50\n",
      "0s - loss: 0.5398 - acc: 0.7331 - val_loss: 0.6874 - val_acc: 0.6404\n",
      "Epoch 50/50\n",
      "0s - loss: 0.5347 - acc: 0.7305 - val_loss: 0.7008 - val_acc: 0.6279\n"
     ]
    }
   ],
   "source": [
    "model4.compile(optimizer=RMSprop(),\n",
    "             loss='categorical_crossentropy',\n",
    "             metrics = ['accuracy'])\n",
    "\n",
    "model_fit4 = model4.fit(X_train, \n",
    "          train_y, \n",
    "          batch_size=254,\n",
    "          epochs=50, \n",
    "          validation_split = .2,\n",
    "         verbose=2)"
   ]
  },
  {
   "cell_type": "code",
   "execution_count": 45,
   "metadata": {},
   "outputs": [
    {
     "name": "stdout",
     "output_type": "stream",
     "text": [
      "1504/1589 [===========================>..] - ETA: 0s"
     ]
    }
   ],
   "source": [
    "y_hat4 = model4.predict_classes(X_test)"
   ]
  },
  {
   "cell_type": "code",
   "execution_count": 46,
   "metadata": {},
   "outputs": [
    {
     "data": {
      "text/html": [
       "<div>\n",
       "<table border=\"1\" class=\"dataframe\">\n",
       "  <thead>\n",
       "    <tr style=\"text-align: right;\">\n",
       "      <th>M_F_P</th>\n",
       "      <th>0</th>\n",
       "      <th>1</th>\n",
       "    </tr>\n",
       "    <tr>\n",
       "      <th>row_0</th>\n",
       "      <th></th>\n",
       "      <th></th>\n",
       "    </tr>\n",
       "  </thead>\n",
       "  <tbody>\n",
       "    <tr>\n",
       "      <th>0</th>\n",
       "      <td>768</td>\n",
       "      <td>304</td>\n",
       "    </tr>\n",
       "    <tr>\n",
       "      <th>1</th>\n",
       "      <td>236</td>\n",
       "      <td>281</td>\n",
       "    </tr>\n",
       "  </tbody>\n",
       "</table>\n",
       "</div>"
      ],
      "text/plain": [
       "M_F_P    0    1\n",
       "row_0          \n",
       "0      768  304\n",
       "1      236  281"
      ]
     },
     "execution_count": 46,
     "metadata": {},
     "output_type": "execute_result"
    }
   ],
   "source": [
    "pd.crosstab(y_hat4, df_test['M_F_P'])"
   ]
  },
  {
   "cell_type": "code",
   "execution_count": 47,
   "metadata": {},
   "outputs": [
    {
     "data": {
      "text/plain": [
       "540"
      ]
     },
     "execution_count": 47,
     "metadata": {},
     "output_type": "execute_result"
    }
   ],
   "source": [
    "test_wrong = [im for im in zip(X_test, y_hat4, df_test['M_F_P']) if im[1] != im[2]]\n",
    "len(test_wrong)"
   ]
  },
  {
   "cell_type": "code",
   "execution_count": 48,
   "metadata": {
    "collapsed": true
   },
   "outputs": [],
   "source": [
    "model4_acc = model_fit4.history['acc']"
   ]
  },
  {
   "cell_type": "markdown",
   "metadata": {},
   "source": [
    "## MODEL 5"
   ]
  },
  {
   "cell_type": "code",
   "execution_count": 49,
   "metadata": {
    "collapsed": true
   },
   "outputs": [],
   "source": [
    "model5 = Sequential()\n",
    "model5.add(Dense(400, activation='relu', input_shape=(15,)))\n",
    "model5.add(Dropout(0.2))\n",
    "model5.add(Dense(600, activation='relu', input_shape=(15,)))\n",
    "model5.add(Dropout(0.2))\n",
    "model5.add(Dense(2, activation='softmax'))"
   ]
  },
  {
   "cell_type": "code",
   "execution_count": 50,
   "metadata": {},
   "outputs": [
    {
     "name": "stdout",
     "output_type": "stream",
     "text": [
      "_________________________________________________________________\n",
      "Layer (type)                 Output Shape              Param #   \n",
      "=================================================================\n",
      "dense_13 (Dense)             (None, 400)               6400      \n",
      "_________________________________________________________________\n",
      "dropout_1 (Dropout)          (None, 400)               0         \n",
      "_________________________________________________________________\n",
      "dense_14 (Dense)             (None, 600)               240600    \n",
      "_________________________________________________________________\n",
      "dropout_2 (Dropout)          (None, 600)               0         \n",
      "_________________________________________________________________\n",
      "dense_15 (Dense)             (None, 2)                 1202      \n",
      "=================================================================\n",
      "Total params: 248,202\n",
      "Trainable params: 248,202\n",
      "Non-trainable params: 0\n",
      "_________________________________________________________________\n"
     ]
    }
   ],
   "source": [
    "model5.summary()"
   ]
  },
  {
   "cell_type": "code",
   "execution_count": 51,
   "metadata": {},
   "outputs": [
    {
     "name": "stdout",
     "output_type": "stream",
     "text": [
      "Train on 3813 samples, validate on 2542 samples\n",
      "Epoch 1/50\n",
      "0s - loss: 0.6642 - acc: 0.6263 - val_loss: 0.6596 - val_acc: 0.6298\n",
      "Epoch 2/50\n",
      "0s - loss: 0.6521 - acc: 0.6341 - val_loss: 0.6732 - val_acc: 0.5858\n",
      "Epoch 3/50\n",
      "0s - loss: 0.6466 - acc: 0.6465 - val_loss: 0.6589 - val_acc: 0.6306\n",
      "Epoch 4/50\n",
      "0s - loss: 0.6418 - acc: 0.6462 - val_loss: 0.6546 - val_acc: 0.6381\n",
      "Epoch 5/50\n",
      "0s - loss: 0.6378 - acc: 0.6501 - val_loss: 0.7474 - val_acc: 0.6251\n",
      "Epoch 6/50\n",
      "0s - loss: 0.6408 - acc: 0.6538 - val_loss: 0.6613 - val_acc: 0.6373\n",
      "Epoch 7/50\n",
      "0s - loss: 0.6297 - acc: 0.6659 - val_loss: 0.6521 - val_acc: 0.6432\n",
      "Epoch 8/50\n",
      "0s - loss: 0.6285 - acc: 0.6609 - val_loss: 0.6471 - val_acc: 0.6463\n",
      "Epoch 9/50\n",
      "0s - loss: 0.6306 - acc: 0.6690 - val_loss: 0.6463 - val_acc: 0.6479\n",
      "Epoch 10/50\n",
      "0s - loss: 0.6250 - acc: 0.6743 - val_loss: 0.7098 - val_acc: 0.6275\n",
      "Epoch 11/50\n",
      "0s - loss: 0.6288 - acc: 0.6606 - val_loss: 0.6443 - val_acc: 0.6503\n",
      "Epoch 12/50\n",
      "0s - loss: 0.6198 - acc: 0.6714 - val_loss: 0.6663 - val_acc: 0.5995\n",
      "Epoch 13/50\n",
      "0s - loss: 0.6232 - acc: 0.6656 - val_loss: 0.6471 - val_acc: 0.6522\n",
      "Epoch 14/50\n",
      "0s - loss: 0.6152 - acc: 0.6758 - val_loss: 0.6666 - val_acc: 0.6243\n",
      "Epoch 15/50\n",
      "0s - loss: 0.6154 - acc: 0.6785 - val_loss: 0.6637 - val_acc: 0.6444\n",
      "Epoch 16/50\n",
      "0s - loss: 0.6160 - acc: 0.6740 - val_loss: 0.7014 - val_acc: 0.5767\n",
      "Epoch 17/50\n",
      "0s - loss: 0.6126 - acc: 0.6785 - val_loss: 0.6747 - val_acc: 0.6424\n",
      "Epoch 18/50\n",
      "0s - loss: 0.6120 - acc: 0.6774 - val_loss: 0.6360 - val_acc: 0.6483\n",
      "Epoch 19/50\n",
      "0s - loss: 0.6080 - acc: 0.6798 - val_loss: 0.6372 - val_acc: 0.6459\n",
      "Epoch 20/50\n",
      "0s - loss: 0.6069 - acc: 0.6806 - val_loss: 0.6695 - val_acc: 0.6239\n",
      "Epoch 21/50\n",
      "0s - loss: 0.6085 - acc: 0.6772 - val_loss: 0.6442 - val_acc: 0.6526\n",
      "Epoch 22/50\n",
      "0s - loss: 0.6022 - acc: 0.6863 - val_loss: 0.6558 - val_acc: 0.6436\n",
      "Epoch 23/50\n",
      "0s - loss: 0.6045 - acc: 0.6871 - val_loss: 0.6858 - val_acc: 0.5964\n",
      "Epoch 24/50\n",
      "0s - loss: 0.6057 - acc: 0.6816 - val_loss: 0.6481 - val_acc: 0.6495\n",
      "Epoch 25/50\n",
      "0s - loss: 0.5934 - acc: 0.6892 - val_loss: 0.6524 - val_acc: 0.6483\n",
      "Epoch 26/50\n",
      "0s - loss: 0.5977 - acc: 0.6866 - val_loss: 0.6576 - val_acc: 0.6243\n",
      "Epoch 27/50\n",
      "0s - loss: 0.5966 - acc: 0.6882 - val_loss: 0.6437 - val_acc: 0.6373\n",
      "Epoch 28/50\n",
      "0s - loss: 0.5944 - acc: 0.6958 - val_loss: 0.6620 - val_acc: 0.6452\n",
      "Epoch 29/50\n",
      "0s - loss: 0.5941 - acc: 0.6903 - val_loss: 0.6451 - val_acc: 0.6562\n",
      "Epoch 30/50\n",
      "0s - loss: 0.5969 - acc: 0.6866 - val_loss: 0.6494 - val_acc: 0.6397\n",
      "Epoch 31/50\n",
      "0s - loss: 0.5889 - acc: 0.6939 - val_loss: 0.6718 - val_acc: 0.6515\n",
      "Epoch 32/50\n",
      "0s - loss: 0.5885 - acc: 0.6979 - val_loss: 0.6486 - val_acc: 0.6629\n",
      "Epoch 33/50\n",
      "0s - loss: 0.5845 - acc: 0.6966 - val_loss: 0.6503 - val_acc: 0.6459\n",
      "Epoch 34/50\n",
      "0s - loss: 0.5842 - acc: 0.7008 - val_loss: 0.6455 - val_acc: 0.6585\n",
      "Epoch 35/50\n",
      "0s - loss: 0.5842 - acc: 0.6994 - val_loss: 0.7467 - val_acc: 0.6334\n",
      "Epoch 36/50\n",
      "0s - loss: 0.5856 - acc: 0.6916 - val_loss: 0.6724 - val_acc: 0.6066\n",
      "Epoch 37/50\n",
      "0s - loss: 0.5798 - acc: 0.7068 - val_loss: 0.6399 - val_acc: 0.6593\n",
      "Epoch 38/50\n",
      "0s - loss: 0.5837 - acc: 0.6974 - val_loss: 0.6483 - val_acc: 0.6306\n",
      "Epoch 39/50\n",
      "0s - loss: 0.5745 - acc: 0.7036 - val_loss: 0.6397 - val_acc: 0.6456\n",
      "Epoch 40/50\n",
      "0s - loss: 0.5755 - acc: 0.7008 - val_loss: 0.6390 - val_acc: 0.6522\n",
      "Epoch 41/50\n",
      "0s - loss: 0.5753 - acc: 0.7060 - val_loss: 0.6488 - val_acc: 0.6424\n",
      "Epoch 42/50\n",
      "0s - loss: 0.5739 - acc: 0.7063 - val_loss: 0.6675 - val_acc: 0.6499\n",
      "Epoch 43/50\n",
      "0s - loss: 0.5729 - acc: 0.7065 - val_loss: 0.6388 - val_acc: 0.6526\n",
      "Epoch 44/50\n",
      "0s - loss: 0.5673 - acc: 0.7115 - val_loss: 0.6303 - val_acc: 0.6574\n",
      "Epoch 45/50\n",
      "0s - loss: 0.5688 - acc: 0.7023 - val_loss: 0.6382 - val_acc: 0.6589\n",
      "Epoch 46/50\n",
      "0s - loss: 0.5674 - acc: 0.7162 - val_loss: 0.7362 - val_acc: 0.5712\n",
      "Epoch 47/50\n",
      "0s - loss: 0.5707 - acc: 0.7063 - val_loss: 0.6400 - val_acc: 0.6566\n",
      "Epoch 48/50\n",
      "0s - loss: 0.5654 - acc: 0.7089 - val_loss: 0.8500 - val_acc: 0.5122\n",
      "Epoch 49/50\n",
      "0s - loss: 0.5772 - acc: 0.7086 - val_loss: 0.6470 - val_acc: 0.6550\n",
      "Epoch 50/50\n",
      "0s - loss: 0.5550 - acc: 0.7270 - val_loss: 0.6866 - val_acc: 0.6499\n"
     ]
    }
   ],
   "source": [
    "model5.compile(optimizer=RMSprop(),\n",
    "             loss='categorical_crossentropy',\n",
    "             metrics = ['accuracy'])\n",
    "\n",
    "model_fit5 = model5.fit(X_train, \n",
    "          train_y, \n",
    "          batch_size=254,\n",
    "          epochs=50, \n",
    "          validation_split = .40,\n",
    "         verbose=2)"
   ]
  },
  {
   "cell_type": "code",
   "execution_count": 52,
   "metadata": {},
   "outputs": [
    {
     "name": "stdout",
     "output_type": "stream",
     "text": [
      " 928/1589 [================>.............] - ETA: 0s"
     ]
    }
   ],
   "source": [
    "y_hat5 = model5.predict_classes(X_test)"
   ]
  },
  {
   "cell_type": "code",
   "execution_count": 53,
   "metadata": {},
   "outputs": [
    {
     "data": {
      "text/plain": [
       "544"
      ]
     },
     "execution_count": 53,
     "metadata": {},
     "output_type": "execute_result"
    }
   ],
   "source": [
    "test_wrong = [im for im in zip(X_test, y_hat5, df_test['M_F_P']) if im[1] != im[2]]\n",
    "len(test_wrong)"
   ]
  },
  {
   "cell_type": "code",
   "execution_count": 54,
   "metadata": {},
   "outputs": [
    {
     "data": {
      "text/html": [
       "<div>\n",
       "<table border=\"1\" class=\"dataframe\">\n",
       "  <thead>\n",
       "    <tr style=\"text-align: right;\">\n",
       "      <th>M_F_P</th>\n",
       "      <th>0</th>\n",
       "      <th>1</th>\n",
       "    </tr>\n",
       "    <tr>\n",
       "      <th>row_0</th>\n",
       "      <th></th>\n",
       "      <th></th>\n",
       "    </tr>\n",
       "  </thead>\n",
       "  <tbody>\n",
       "    <tr>\n",
       "      <th>0</th>\n",
       "      <td>979</td>\n",
       "      <td>519</td>\n",
       "    </tr>\n",
       "    <tr>\n",
       "      <th>1</th>\n",
       "      <td>25</td>\n",
       "      <td>66</td>\n",
       "    </tr>\n",
       "  </tbody>\n",
       "</table>\n",
       "</div>"
      ],
      "text/plain": [
       "M_F_P    0    1\n",
       "row_0          \n",
       "0      979  519\n",
       "1       25   66"
      ]
     },
     "execution_count": 54,
     "metadata": {},
     "output_type": "execute_result"
    }
   ],
   "source": [
    "pd.crosstab(y_hat5, df_test['M_F_P'])"
   ]
  },
  {
   "cell_type": "code",
   "execution_count": 55,
   "metadata": {
    "collapsed": true
   },
   "outputs": [],
   "source": [
    "model5_acc = model_fit5.history['acc']"
   ]
  },
  {
   "cell_type": "code",
   "execution_count": 56,
   "metadata": {},
   "outputs": [
    {
     "data": {
      "image/png": "[encoded data removed]",
      "text/plain": [
       "<matplotlib.figure.Figure at 0x7fdc7832d7b8>"
      ]
     },
     "metadata": {},
     "output_type": "display_data"
    }
   ],
   "source": [
    "#plt.fig\n",
    "plt.plot(range(1,51), model1_acc, color = 'green', )\n",
    "plt.plot(range(1,51), model2_acc, color = 'red', )\n",
    "plt.plot(range(1,51), model3_acc, color = 'black', )\n",
    "plt.plot(range(1,51), model4_acc, color = 'yellow', )\n",
    "plt.plot(range(1,51), model5_acc, color = 'blue', )\n",
    "plt.show()"
   ]
  }
 ],
 "metadata": {
  "kernelspec": {
   "display_name": "Python 3",
   "language": "python",
   "name": "python3"
  },
  "language_info": {
   "codemirror_mode": {
    "name": "ipython",
    "version": 3
   },
   "file_extension": ".py",
   "mimetype": "text/x-python",
   "name": "python",
   "nbconvert_exporter": "python",
   "pygments_lexer": "ipython3",
   "version": "3.5.2"
  }
 },
 "nbformat": 4,
 "nbformat_minor": 2
}
