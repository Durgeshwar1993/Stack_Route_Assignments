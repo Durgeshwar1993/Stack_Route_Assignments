{
 "cells": [
  {
   "cell_type": "markdown",
   "metadata": {
    "deletable": true,
    "editable": true
   },
   "source": [
    "### Word Sense Disambiguity"
   ]
  },
  {
   "cell_type": "markdown",
   "metadata": {
    "deletable": true,
    "editable": true
   },
   "source": [
    "Given the following sentences:\n",
    "\n",
    "    The agent will book the to the show for the entire family.\n",
    "    But you can generally book tickets online.\n",
    "    When you book tickets online they provide you with a book of stamps\n",
    "    \n",
    "If you could see the above sentences the word book is used in different context. In first two sentences the word book(verb) refers to the meaning 'reserve' while in the second portion of the third sentence book(noun) refers to a physical entity."
   ]
  },
  {
   "cell_type": "markdown",
   "metadata": {
    "deletable": true,
    "editable": true
   },
   "source": [
    "## Part - 1\n",
    "\n",
    "    Use the Lesk Module to find the similar words of the word *book* using the above sentences. Record your observations.\n",
    "    \n",
    "## Part - 2\n",
    "\n",
    "Tag sentences using Brill Tagger.\n",
    "\n",
    "### Brill Tagger\n",
    "\n",
    "The BrillTagger class is a **transformation-based tagger**. The BrillTagger class uses a series\n",
    "of rules to correct the results of an initial tagger. These rules are scored based on how many\n",
    "errors they correct minus the number of new errors they produce.\n",
    "\n",
    "The idea is simple Brill Tagger tries to correct the mistake made by the inital tagger. Brill tagger inputs an initial tagger and the templates which autmatically tells to create new rules based on the Training Set.\n",
    "\n",
    "**Recommended Steps:**\n",
    "\n",
    "1. Initially tag the sentence using POS Tagger. Then observe the POS tags for the word book in different context\n",
    "2. Then create a tagged_sentence using the POS Tagger correcting it with the mistakes it made.\n",
    "3. Now create a Brill Tagger using an initial tagger (POS) and pass templates(rules) to it.\n",
    "4. Train the Brill Tagger using the Tagged Sentence\n",
    "5. Test the Brill Tagger on the following sentences:\n",
    "       > \"I bought this book from Kerala\"\n",
    "       > \"He will book tickets to Kerala\"\n",
    "       \n",
    "## Part - 3\n",
    "\n",
    "    Perform Part-1 again but passing the POS tags produced by the Brill Tagger.\n",
    "    "
   ]
  },
  {
   "cell_type": "markdown",
   "metadata": {
    "deletable": true,
    "editable": true
   },
   "source": []
  },
  {
   "cell_type": "markdown",
   "metadata": {
    "collapsed": true,
    "deletable": true,
    "editable": true
   },
   "source": [
    "# part1"
   ]
  },
  {
   "cell_type": "code",
   "execution_count": 13,
   "metadata": {
    "collapsed": false
   },
   "outputs": [
    {
     "name": "stdout",
     "output_type": "stream",
     "text": [
      "the sacred writings of Islam revealed by God to the prophet Muhammad during his life at Mecca and Medina\n"
     ]
    }
   ],
   "source": [
    "from nltk.wsd import lesk\n",
    "import nltk\n",
    "from nltk.tokenize import PunktSentenceTokenizer,sent_tokenize,word_tokenize\n",
    "from nltk.stem import WordNetLemmatizer\n",
    "from nltk.corpus import wordnet\n",
    "from nltk.corpus.reader import TaggedCorpusReader\n",
    "from nltk.tag import RegexpTagger , BrillTaggerTrainer\n",
    "from nltk.data import load\n",
    "\n",
    "#sent =\"The agent will book the to the show for the entire family.But you can generally book tickets online.When you book tickets online they provide you with a book of stamps.\"\n",
    "tokenized1=word_tokenize('The agent will book the to the show for the entire family.')\n",
    "disambiguated = lesk(context_sentence=tokenized1, ambiguous_word=\"book\")\n",
    "print (disambiguated.definition())"
   ]
  },
  {
   "cell_type": "code",
   "execution_count": 2,
   "metadata": {
    "collapsed": false
   },
   "outputs": [
    {
     "name": "stdout",
     "output_type": "stream",
     "text": [
      "a written version of a play or other dramatic composition; used in preparing for a performance\n"
     ]
    }
   ],
   "source": [
    "tokenized2=word_tokenize('But you can generally book tickets online.')\n",
    "disambiguated1= lesk(context_sentence=tokenized2, ambiguous_word=\"book\")\n",
    "print (disambiguated1.definition())"
   ]
  },
  {
   "cell_type": "code",
   "execution_count": 3,
   "metadata": {
    "collapsed": false
   },
   "outputs": [
    {
     "name": "stdout",
     "output_type": "stream",
     "text": [
      "a number of sheets (ticket or stamps etc.) bound together on one edge\n"
     ]
    }
   ],
   "source": [
    "tokenized3=word_tokenize('When you book tickets online they provide you with a book of stamps')\n",
    "disambiguated2= lesk(context_sentence=tokenized3, ambiguous_word=\"book\")\n",
    "print (disambiguated2.definition())"
   ]
  },
  {
   "cell_type": "markdown",
   "metadata": {},
   "source": [
    "# part2"
   ]
  },
  {
   "cell_type": "code",
   "execution_count": 4,
   "metadata": {
    "collapsed": true
   },
   "outputs": [],
   "source": [
    "sent_1 = \"I bought this book from Kerala.\"\n",
    "sent_2 = \"He will book tickets to Kerala.\""
   ]
  },
  {
   "cell_type": "code",
   "execution_count": 5,
   "metadata": {
    "collapsed": false
   },
   "outputs": [
    {
     "name": "stdout",
     "output_type": "stream",
     "text": [
      "[('I', 'PRP'), ('bought', 'VBD'), ('this', 'DT'), ('book', 'NN'), ('from', 'IN'), ('Kerala', 'NNP'), ('.', '.')]\n",
      "[('He', 'PRP'), ('will', 'MD'), ('book', 'NN'), ('tickets', 'NNS'), ('to', 'TO'), ('Kerala', 'NNP'), ('.', '.')]\n"
     ]
    }
   ],
   "source": [
    "sent_1 = word_tokenize(sent_1)\n",
    "sent_2 = word_tokenize(sent_2)\n",
    "print (nltk.pos_tag(sent_1))\n",
    "print (nltk.pos_tag(sent_2))"
   ]
  },
  {
   "cell_type": "code",
   "execution_count": 6,
   "metadata": {
    "collapsed": false
   },
   "outputs": [
    {
     "data": {
      "text/plain": [
       "[('He', 'PRP'),\n",
       " ('will', 'VB'),\n",
       " ('book', 'VB'),\n",
       " ('tickets', 'NNS'),\n",
       " ('to', 'TO'),\n",
       " ('Kerala', 'NNP'),\n",
       " ('.', 'PUNT')]"
      ]
     },
     "execution_count": 6,
     "metadata": {},
     "output_type": "execute_result"
    }
   ],
   "source": [
    "[('I', 'PRP'),\n",
    " ('bought', 'VBD'),\n",
    " ('this', 'DET'),\n",
    " ('book', 'NN'),\n",
    " ('from', 'ADP'),\n",
    " ('Kerala', 'NN'),\n",
    " ('.', 'PUNT')]\n",
    "[('He', 'PRP'),\n",
    " ('will', 'VB'),\n",
    " ('book', 'VB'),\n",
    " ('tickets', 'NNS'),\n",
    " ('to', 'TO'),\n",
    " ('Kerala', 'NNP'),\n",
    " ('.', 'PUNT')]"
   ]
  },
  {
   "cell_type": "code",
   "execution_count": 19,
   "metadata": {
    "collapsed": false
   },
   "outputs": [],
   "source": [
    "tagdict = load('taggers/maxent_treebank_pos_tagger/english.pickle')"
   ]
  },
  {
   "cell_type": "code",
   "execution_count": 16,
   "metadata": {
    "collapsed": false
   },
   "outputs": [],
   "source": [
    "def train_brill_tag(train_data):\n",
    "   \n",
    "    # Templates for checking the pos \n",
    "    templates = [\n",
    "        brill.Template(brill.Pos([-1])),\n",
    "        brill.Template(brill.Pos([1])),\n",
    "        brill.Template(brill.Pos([-2])),\n",
    "        brill.Template(brill.Pos([2])),\n",
    "        brill.Template(brill.Pos([-2, -1])),\n",
    "        brill.Template(brill.Pos([1, 2])),\n",
    "        brill.Template(brill.Pos([-3, -2, -1])),\n",
    "        brill.Template(brill.Pos([1, 2, 3])),\n",
    "        brill.Template(brill.Pos([-1]), brill.Pos([1])),\n",
    "        brill.Template(brill.Word([-1])),\n",
    "        brill.Template(brill.Word([1])),\n",
    "        brill.Template(brill.Word([-2])),\n",
    "        brill.Template(brill.Word([2])),\n",
    "        brill.Template(brill.Word([-2, -1])),\n",
    "        brill.Template(brill.Word([1, 2])),\n",
    "        brill.Template(brill.Word([-3, -2, -1])),\n",
    "        brill.Template(brill.Word([1, 2, 3])),\n",
    "        brill.Template(brill.Word([-1]), brill.Word([1]))]\n",
    "     \n",
    "       \n",
    "    trainer = BrillTaggerTrainer(tagdict, templates = templates, trace = 3)\n",
    "    brill_tagger = trainer.train(train_data, max_rules = 10) \n",
    "    return brill_tagger"
   ]
  },
  {
   "cell_type": "code",
   "execution_count": 14,
   "metadata": {
    "collapsed": false
   },
   "outputs": [
    {
     "name": "stdout",
     "output_type": "stream",
     "text": [
      "[[('I', 'PRP'), ('will', 'VB'), ('book', 'VB'), ('a', 'DT'), ('ticket', 'NN'), ('today', 'NN'), ('.', 'PUNCT'), ('The', 'DT'), ('Amazon', 'NN'), ('Books', 'NNS'), ('Store', 'NN'), ('offers', 'NNS'), ('you', 'PRP'), ('millions', 'NNS'), ('of', 'IN'), ('titles', 'NNS'), ('.', 'PUNCT'), ('I', 'PRP'), ('have', 'VB'), ('a', 'DT'), ('book', 'NN'), ('to', 'TO'), ('finish', 'VB'), ('He', 'PRP'), ('will', 'VB'), ('book', 'VB'), ('tickets', 'NNS'), ('today', 'NN'), ('.', 'PUNCT'), ('.', 'PUNCT'), ('How', 'WRB'), ('to', 'TO'), ('book', 'VB'), ('a', 'DT'), ('cab', 'NN'), ('?', 'PUNCT'), ('I', 'PRP'), ('will', 'VB'), ('book', 'VB'), ('a', 'DET'), ('ticket', 'NN'), ('for', 'ADP'), ('today', 'NN'), ('evening', 'NN'), ('.', 'PUNCT'), ('I', 'PRP'), ('have', 'VB'), ('booked', 'VB'), ('a', 'DET'), ('room', 'NN'), ('for', 'ADP'), ('entire', 'ADJ'), ('family', 'NN'), ('at', 'ADP'), ('the', 'DET'), ('Park', 'NN'), ('Hotel', 'NN'), ('.', 'PUNCT'), ('When', 'WRB'), ('you', 'PRP'), ('book', 'VB'), ('tickets', 'NNS'), ('online', 'VBP'), ('a', 'DET'), ('book', 'NN'), ('of', 'ADP'), ('stamps', 'NNS'), ('.', 'PUNCT')]]\n"
     ]
    }
   ],
   "source": [
    "malay_tagged = TaggedCorpusReader('.', 'train.txt', sep=\"\\\\\")\n",
    "p = list(malay_tagged.tagged_sents())\n",
    "print(p)\n"
   ]
  },
  {
   "cell_type": "code",
   "execution_count": 20,
   "metadata": {
    "collapsed": false
   },
   "outputs": [
    {
     "ename": "NameError",
     "evalue": "name 'brill' is not defined",
     "output_type": "error",
     "traceback": [
      "\u001b[0;31m---------------------------------------------------------------------------\u001b[0m",
      "\u001b[0;31mNameError\u001b[0m                                 Traceback (most recent call last)",
      "\u001b[0;32m<ipython-input-20-057975a61938>\u001b[0m in \u001b[0;36m<module>\u001b[0;34m()\u001b[0m\n\u001b[0;32m----> 1\u001b[0;31m \u001b[0mx\u001b[0m \u001b[0;34m=\u001b[0m \u001b[0mtrain_brill_tag\u001b[0m\u001b[0;34m(\u001b[0m\u001b[0mp\u001b[0m\u001b[0;34m)\u001b[0m\u001b[0;34m\u001b[0m\u001b[0m\n\u001b[0m\u001b[1;32m      2\u001b[0m \u001b[0mprint\u001b[0m\u001b[0;34m(\u001b[0m\u001b[0mx\u001b[0m\u001b[0;34m)\u001b[0m\u001b[0;34m\u001b[0m\u001b[0m\n\u001b[1;32m      3\u001b[0m \u001b[0msent2_1\u001b[0m \u001b[0;34m=\u001b[0m \u001b[0mx\u001b[0m\u001b[0;34m.\u001b[0m\u001b[0mtag\u001b[0m\u001b[0;34m(\u001b[0m\u001b[0msent_1\u001b[0m\u001b[0;34m)\u001b[0m\u001b[0;34m\u001b[0m\u001b[0m\n\u001b[1;32m      4\u001b[0m \u001b[0msent2_2\u001b[0m \u001b[0;34m=\u001b[0m \u001b[0mx\u001b[0m\u001b[0;34m.\u001b[0m\u001b[0mtag\u001b[0m\u001b[0;34m(\u001b[0m\u001b[0msent_2\u001b[0m\u001b[0;34m)\u001b[0m\u001b[0;34m\u001b[0m\u001b[0m\n",
      "\u001b[0;32m<ipython-input-16-da228053a970>\u001b[0m in \u001b[0;36mtrain_brill_tag\u001b[0;34m(train_data)\u001b[0m\n\u001b[1;32m      3\u001b[0m     \u001b[0;31m# Templates for checking the pos\u001b[0m\u001b[0;34m\u001b[0m\u001b[0;34m\u001b[0m\u001b[0m\n\u001b[1;32m      4\u001b[0m     templates = [\n\u001b[0;32m----> 5\u001b[0;31m         \u001b[0mbrill\u001b[0m\u001b[0;34m.\u001b[0m\u001b[0mTemplate\u001b[0m\u001b[0;34m(\u001b[0m\u001b[0mbrill\u001b[0m\u001b[0;34m.\u001b[0m\u001b[0mPos\u001b[0m\u001b[0;34m(\u001b[0m\u001b[0;34m[\u001b[0m\u001b[0;34m-\u001b[0m\u001b[0;36m1\u001b[0m\u001b[0;34m]\u001b[0m\u001b[0;34m)\u001b[0m\u001b[0;34m)\u001b[0m\u001b[0;34m,\u001b[0m\u001b[0;34m\u001b[0m\u001b[0m\n\u001b[0m\u001b[1;32m      6\u001b[0m         \u001b[0mbrill\u001b[0m\u001b[0;34m.\u001b[0m\u001b[0mTemplate\u001b[0m\u001b[0;34m(\u001b[0m\u001b[0mbrill\u001b[0m\u001b[0;34m.\u001b[0m\u001b[0mPos\u001b[0m\u001b[0;34m(\u001b[0m\u001b[0;34m[\u001b[0m\u001b[0;36m1\u001b[0m\u001b[0;34m]\u001b[0m\u001b[0;34m)\u001b[0m\u001b[0;34m)\u001b[0m\u001b[0;34m,\u001b[0m\u001b[0;34m\u001b[0m\u001b[0m\n\u001b[1;32m      7\u001b[0m         \u001b[0mbrill\u001b[0m\u001b[0;34m.\u001b[0m\u001b[0mTemplate\u001b[0m\u001b[0;34m(\u001b[0m\u001b[0mbrill\u001b[0m\u001b[0;34m.\u001b[0m\u001b[0mPos\u001b[0m\u001b[0;34m(\u001b[0m\u001b[0;34m[\u001b[0m\u001b[0;34m-\u001b[0m\u001b[0;36m2\u001b[0m\u001b[0;34m]\u001b[0m\u001b[0;34m)\u001b[0m\u001b[0;34m)\u001b[0m\u001b[0;34m,\u001b[0m\u001b[0;34m\u001b[0m\u001b[0m\n",
      "\u001b[0;31mNameError\u001b[0m: name 'brill' is not defined"
     ]
    }
   ],
   "source": [
    "x = train_brill_tag(p)\n",
    "print(x)\n",
    "sent2_1 = x.tag(sent_1)\n",
    "sent2_2 = x.tag(sent_2)"
   ]
  },
  {
   "cell_type": "markdown",
   "metadata": {},
   "source": [
    "# part 3"
   ]
  },
  {
   "cell_type": "code",
   "execution_count": null,
   "metadata": {
    "collapsed": false
   },
   "outputs": [],
   "source": [
    "sent1_1 = x.tag(tokenized1)\n",
    "sent1_2 = x.tag(tokenized2)\n",
    "sent1_3 = x.tag(tokenized3)\n"
   ]
  },
  {
   "cell_type": "code",
   "execution_count": null,
   "metadata": {
    "collapsed": true
   },
   "outputs": [],
   "source": []
  }
 ],
 "metadata": {
  "kernelspec": {
   "display_name": "Python 3",
   "language": "python",
   "name": "python3"
  },
  "language_info": {
   "codemirror_mode": {
    "name": "ipython",
    "version": 3
   },
   "file_extension": ".py",
   "mimetype": "text/x-python",
   "name": "python",
   "nbconvert_exporter": "python",
   "pygments_lexer": "ipython3",
   "version": "3.6.0"
  }
 },
 "nbformat": 4,
 "nbformat_minor": 2
}
