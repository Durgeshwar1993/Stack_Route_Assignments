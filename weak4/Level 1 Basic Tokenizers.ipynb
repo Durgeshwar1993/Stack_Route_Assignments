{
 "cells": [
  {
   "cell_type": "markdown",
   "metadata": {},
   "source": [
    "## UK Government Content Writing Criteria\n",
    "\n",
    "UK Government has a certain checklist for the content writers. They want the content writers to be more specific in the details they want to convey to the users. UK Government basically believes that when you write more people understand less. So they came up with a simple solution.\n",
    "\n",
    "1. There can be no more than 15 Sentences.\n",
    "2. And each sentence should have less than 15 words.\n",
    "3. And each word should be less than 15 words.\n",
    "\n",
    "Help the UK Government writing a detector which checks for the above criteria. \n",
    "\n",
    "Write three seperate detectors so that the content writer knows where exactly did he make the mistake"
   ]
  },
  {
   "cell_type": "markdown",
   "metadata": {},
   "source": [
    "So here is Mr. James Wilson who wrote about Elon Musk. Here is the following content.\n",
    "\n",
    "~~~~ \n",
    "Musk was born on June 28, 1971, in Pretoria, Gauteng, South Africa,[27] the son of Maye Musk (née Haldeman), a model and dietician from Regina, Saskatchewan, Canada;[28] and Errol Musk, a South African electromechanical engineer, pilot and sailor. He has a younger brother, Kimbal (born 1972), and a younger sister, Tosca (born 1974).[28][29][30][31] His paternal grandmother was British, and he also has Pennsylvania Dutch ancestry,[32][33] and his maternal grandfather was American, from Minnesota.[34] After his parents divorced in 1980, Musk lived mostly with his father in the suburbs of Pretoria.[32]\n",
    "\n",
    "During his childhood he had an interest in reading and often did so for hours at a time.[35]\n",
    "\n",
    "At What age did Musk got interested in computing? At age 10, he developed an interest in computing with the Commodore VIC-20.[36] He taught himself computer programming at the age of 12, sold the code for a BASIC-based video game he created called Blastar, to a magazine called PC and Office Technology, for approximately $500. [37][38] A web version of the game is available online.[37][39]\n",
    "\n",
    "Musk was severely bullied throughout his childhood, and was once hospitalized when a group of boys threw him down a flight of stairs and then beat him until he lost consciousness.[40]\n",
    "\n",
    "Musk was initially educated at private schools, attending the English-speaking Waterkloof House Preparatory School. \n",
    "\n",
    "Mr. Singh helped Musk during his initial days when he was severely bullied during his childhood.\n",
    "\n",
    "Musk later graduated from Pretoria Boys High School and moved to Canada in June 1989, just before his 18th birthday,[41] after obtaining Canadian citizenship through his Canadian-born mother.[42][43] Although at the time Musk had to register to become a Canadian citizen, Bill C-37, which came into law in April of 2009, effectively made his Canadian citizenship retroactive to his birth since he was born in the first generation abroad to a Canadian-born mother. Therefore, with the law change, he is considered to have always been a Canadian citizen by birth.\n",
    "~~~~\n"
   ]
  },
  {
   "cell_type": "code",
   "execution_count": 7,
   "metadata": {
    "collapsed": false
   },
   "outputs": [
    {
     "data": {
      "text/plain": [
       "True"
      ]
     },
     "execution_count": 7,
     "metadata": {},
     "output_type": "execute_result"
    }
   ],
   "source": [
    "# Funct'ion to detect first criteria\n",
    "from nltk.tokenize import sent_tokenize\n",
    "from nltk.tokenize import word_tokenize\n",
    "sent = \"Musk was born on June 28, 1971, in Pretoria, Gauteng, South Africa,[27] the son of Maye Musk (née Haldeman), a model and dietician from Regina, Saskatchewan, Canada;[28] and Errol Musk, a South African electromechanical engineer, pilot and sailor. He has a younger brother, Kimbal (born 1972), and a younger sister, Tosca (born 1974).[28][29][30][31] His paternal grandmother was British, and he also has Pennsylvania Dutch ancestry,[32][33] and his maternal grandfather was American, from Minnesota.[34] After his parents divorced in 1980, Musk lived mostly with his father in the suburbs of Pretoria.[32]. During his childhood he had an interest in reading and often did so for hours at a time.[35]At What age did Musk got interested in computing? At age 10, he developed an interest in computing with the Commodore VIC-20.[36] He taught himself computer programming at the age of 12, sold the code for a BASIC-based video game he created called Blastar, to a magazine called PC and Office Technology, for approximately $500. [37][38] .A web version of the game is available online.[37][39].Musk was severely bullied throughout his childhood, and was once hospitalized when a group of boys threw him down a flight of stairs and then beat him until he lost consciousness.[40].Musk was initially educated at private schools, attending the English-speaking Waterkloof House Preparatory School. .Mr. Singh helped Musk during his initial days when he was severely bullied during his childhood..Musk later graduated from Pretoria Boys High School and moved to Canada in June 1989, just before his 18th birthday,[41] after obtaining Canadian citizenship through his Canadian-born mother.[42][43] Although at the time Musk had to register to become a Canadian citizen, Bill C-37, which came into law in April of 2009, effectively made his Canadian citizenship retroactive to his birth since he was born in the first generation abroad to a Canadian-born mother. Therefore, with the law change, he is considered to have always been a Canadian citizen by birth. \"\n",
    "def sentence_count(read):\n",
    "    \n",
    "    sentence_tokenize =  sent_tokenize(sent)\n",
    "    if (len(sentence_tokenize))<=15:\n",
    "        return True\n",
    "    else:\n",
    "        return False\n",
    "sentence_count(sent)\n"
   ]
  },
  {
   "cell_type": "code",
   "execution_count": 14,
   "metadata": {
    "collapsed": false
   },
   "outputs": [
    {
     "data": {
      "text/plain": [
       "False"
      ]
     },
     "execution_count": 14,
     "metadata": {},
     "output_type": "execute_result"
    }
   ],
   "source": [
    "# Function to detect second criteria\n",
    "\n",
    "def word_count(read):\n",
    "    sentence_tokenize =  sent_tokenize(sent)\n",
    "    for i in list(range(len(sentence_tokenize))):\n",
    "        word_tookenize = word_tokenize(sentence_tokenize[i])\n",
    "        if (len(word_tookenize)) <= 15 :\n",
    "            continue\n",
    "        else :\n",
    "            return False\n",
    "word_count(sent)"
   ]
  },
  {
   "cell_type": "code",
   "execution_count": 15,
   "metadata": {
    "collapsed": false
   },
   "outputs": [
    {
     "data": {
      "text/plain": [
       "False"
      ]
     },
     "execution_count": 15,
     "metadata": {},
     "output_type": "execute_result"
    }
   ],
   "source": [
    "# Function to detect third criteria\n",
    "def word_to_words_count(read):\n",
    "    word_tookenize =  word_tokenize(read)\n",
    "    for i in list(range(len(word_tookenize))):\n",
    "        #word_tookenize = word_tokenize(sentence_tokenize[i])\n",
    "        if (len(word_tookenize[i])) <= 15 :\n",
    "            continue\n",
    "        else :\n",
    "            return False\n",
    "word_to_words_count(sent)"
   ]
  },
  {
   "cell_type": "markdown",
   "metadata": {},
   "source": [
    "Mr. Wilson was not really satisfied with the write up. So he edited the few portions of the document and has resent the document for validation.\n",
    "\n",
    "~~~~ \n",
    "Musk was born on June 28, 1971, in Pretoria, Gauteng, South Africa,[27] the son of Maye Musk (née Haldeman), a model and dietician from Regina, Saskatchewan, Canada;[28] and Errol Musk, a South African electromechanical engineer, pilot and sailor. He has a younger brother, Kimbal (born 1972), and a younger sister, Tosca (born 1974).[28][29][30][31] His paternal grandmother was British, and he also has Pennsylvania Dutch ancestry,[32][33] and his maternal grandfather was American, from Minnesota.[34] After his parents divorced in 1980, Musk lived mostly with his father in the suburbs of Pretoria.[32]\n",
    "\n",
    "During his childhood he had an interest in reading and often did so for hours at a time.[35]\n",
    "\n",
    "At What age did Musk got interested in computing?At age 10, he developed an interest in computing with the Commodore VIC-20.[36] He taught himself computer programming at the age of 12, sold the code for a BASIC-based video game he created called Blastar, to a magazine called PC and Office Technology, for approximately $500. [37][38] A web version of the game is available online.[37][39]\n",
    "\n",
    "Musk was severely bullied throughout his childhood, and was once hospitalized when a group of boys threw him down a flight of stairs and then beat him until he lost consciousness.[40]\n",
    "\n",
    "Musk was initially educated at private schools, attending the English-speaking Waterkloof House Preparatory School. \n",
    "\n",
    "Mr. Sing helped Musk during his initial days when he was severely bullied during his childhood.\n",
    "\n",
    "Musk later graduated from Pretoria Boys High School and moved to Canada in June 1989, just before his 18th birthday,[41] after obtaining Canadian citizenship through his Canadian-born mother.[42][43] Although at the time Musk had to register to become a Canadian citizen, Bill C-37, which came into law in April of 2009, effectively made his Canadian citizenship retroactive to his birth since he was born in the first generation abroad to a Canadian-born mother. Therefore, with the law change, he is considered to have always been a Canadian citizen by birth.\n",
    "~~~~\n",
    "\n",
    "#### Detect the content sent by Mr. Wilson. ####\n",
    "\n",
    "#### Also spot the differences between the content posted now and the content posted earlier. ####\n",
    "\n"
   ]
  },
  {
   "cell_type": "code",
   "execution_count": 18,
   "metadata": {
    "collapsed": false
   },
   "outputs": [
    {
     "data": {
      "text/plain": [
       "True"
      ]
     },
     "execution_count": 18,
     "metadata": {},
     "output_type": "execute_result"
    }
   ],
   "source": [
    "# Use the function created earlier to detect the first criteria\n",
    "sent2 = \"Musk was born on June 28, 1971, in Pretoria, Gauteng, South Africa,[27] the son of Maye Musk (née Haldeman), a model and dietician from Regina, Saskatchewan, Canada;[28] and Errol Musk, a South African electromechanical engineer, pilot and sailor. He has a younger brother, Kimbal (born 1972), and a younger sister, Tosca (born 1974).[28][29][30][31] His paternal grandmother was British, and he also has Pennsylvania Dutch ancestry,[32][33] and his maternal grandfather was American, from Minnesota.[34] After his parents divorced in 1980, Musk lived mostly with his father in the suburbs of Pretoria.[32].During his childhood he had an interest in reading and often did so for hours at a time.[35].At What age did Musk got interested in computing?At age 10, he developed an interest in computing with the Commodore VIC-20.[36] He taught himself computer programming at the age of 12, sold the code for a BASIC-based video game he created called Blastar, to a magazine called PC and Office Technology, for approximately $500. [37][38] A web version of the game is available online.[37][39].Musk was severely bullied throughout his childhood, and was once hospitalized when a group of boys threw him down a flight of stairs and then beat him until he lost consciousness.[40].Musk was initially educated at private schools, attending the English-speaking Waterkloof House Preparatory School.Mr. Sing helped Musk during his initial days when he was severely bullied during his childhood.Musk later graduated from Pretoria Boys High School and moved to Canada in June 1989, just before his 18th birthday,[41] after obtaining Canadian citizenship through his Canadian-born mother.[42][43] Although at the time Musk had to register to become a Canadian citizen, Bill C-37, which came into law in April of 2009, effectively made his Canadian citizenship retroactive to his birth since he was born in the first generation abroad to a Canadian-born mother. Therefore, with the law change, he is considered to have always been a Canadian citizen by birth.\"\n",
    "sentence_count(sent2)"
   ]
  },
  {
   "cell_type": "code",
   "execution_count": 19,
   "metadata": {
    "collapsed": false
   },
   "outputs": [
    {
     "data": {
      "text/plain": [
       "False"
      ]
     },
     "execution_count": 19,
     "metadata": {},
     "output_type": "execute_result"
    }
   ],
   "source": [
    "# Use the function created earlier to detect the second criteria\n",
    "word_count(sent2)"
   ]
  },
  {
   "cell_type": "code",
   "execution_count": 20,
   "metadata": {
    "collapsed": false
   },
   "outputs": [
    {
     "data": {
      "text/plain": [
       "False"
      ]
     },
     "execution_count": 20,
     "metadata": {},
     "output_type": "execute_result"
    }
   ],
   "source": [
    "# Use the function created earlier to detect the third critera\n",
    "word_to_words_count(sent2)"
   ]
  },
  {
   "cell_type": "code",
   "execution_count": null,
   "metadata": {
    "collapsed": true
   },
   "outputs": [],
   "source": [
    "#diffrence between content posed and content posted earlier\n"
   ]
  },
  {
   "cell_type": "code",
   "execution_count": null,
   "metadata": {
    "collapsed": true
   },
   "outputs": [],
   "source": []
  },
  {
   "cell_type": "code",
   "execution_count": null,
   "metadata": {
    "collapsed": true
   },
   "outputs": [],
   "source": []
  }
 ],
 "metadata": {
  "kernelspec": {
   "display_name": "Python 3",
   "language": "python",
   "name": "python3"
  },
  "language_info": {
   "codemirror_mode": {
    "name": "ipython",
    "version": 3
   },
   "file_extension": ".py",
   "mimetype": "text/x-python",
   "name": "python",
   "nbconvert_exporter": "python",
   "pygments_lexer": "ipython3",
   "version": "3.6.0"
  }
 },
 "nbformat": 4,
 "nbformat_minor": 2
}
