{
 "cells": [
  {
   "cell_type": "markdown",
   "metadata": {},
   "source": [
    "## Wordnet Similarity"
   ]
  },
  {
   "cell_type": "markdown",
   "metadata": {},
   "source": [
    "### Part - 1\n",
    "   \n",
    "    1. Find the top 5 occuring words(ignoring the stop words) and then find the words most similar to them. Use the extract given below.\n",
    "    \n",
    "    2. For any given word visualize how two words are similar"
   ]
  },
  {
   "cell_type": "markdown",
   "metadata": {},
   "source": [
    "~~~~\n",
    "The Supreme Court ruled last week in the case of Fane Lozman vs the City of Riviera Beach, Florida. They decided that Lozman’s 60-foot, two-story, motorless, rudderless floating home was not a boat or a vessel, and hence should not have been seized under maritime law and destroyed by the city.\n",
    "\n",
    "With the line between house and boat a little bit clearer, reader Steve asked us to clarify something else: “What defines a boat, versus a ship?”\n",
    "\n",
    "One of the quickest ways to reveal yourself as a landlubber is to refer to a ship as a boat, but there’s no absolute distinction between the two, and even experienced mariners rely on local custom and usage to differentiate them. \n",
    "\n",
    "Back in the Age of Sail, a ship was pretty well defined as a vessel with three or more square rigged masts. As different methods of power generation replaced wind and sail, the ships of old became more specifically known as “sailing ships,” and the usage of ship broadened to cover a wide, ill-defined variety of vessels. \n",
    "\n",
    "One thing that sets a ship apart from a boat is size. According the U.S. Naval Institute, a boat, generally speaking, is small enough to be carried aboard a larger vessel, and a vessel large enough to carry a smaller one is a ship. Or, as Steve says his Navy Lieutenant father put it to him, “You can put a boat on a ship, but you can’t put a ship on a boat.”\n",
    "\n",
    "Now, this Naval convention is a good rule of thumb most of the time, but there are a few exceptions, among both naval and civilian vessels. Some yachts, ferries, tug boats, fishing boats, police boats, etc. can carry small lifeboats or dinghies, but they usually don’t graduate to ship status because of that. On the other hand, a large container ship or the USS Cole can be carried aboard an even bigger ship without getting demoted to a boat. \n",
    "\n",
    "The U.S. Navy seems to want to have it both ways with their submarines. One component of each vessel’s official name is USS—that is, United States Ship—but seamen, the Naval Institute says, usually refer to submarines in general as boats, regardless of size. \n",
    "~~~~\n"
   ]
  },
  {
   "cell_type": "markdown",
   "metadata": {
    "collapsed": true
   },
   "source": [
    "# part1"
   ]
  },
  {
   "cell_type": "code",
   "execution_count": 2,
   "metadata": {
    "collapsed": false
   },
   "outputs": [
    {
     "data": {
      "text/plain": [
       "[('ship', 11), ('boat', 7), ('vessel', 4), ('boats', 4), ('Naval', 3)]"
      ]
     },
     "execution_count": 2,
     "metadata": {},
     "output_type": "execute_result"
    }
   ],
   "source": [
    "import nltk\n",
    "from nltk.tokenize import PunktSentenceTokenizer,word_tokenize\n",
    "from nltk.corpus import stopwords , wordnet\n",
    "from nltk.stem import WordNetLemmatizer\n",
    "passage = \"The Supreme Court ruled last week in the case of Fane Lozman vs the City of Riviera Beach, Florida. They decided that Lozman’s 60-foot, two-story, motorless, rudderless floating home was not a boat or a vessel, and hence should not have been seized under maritime law and destroyed by the city.With the line between house and boat a little bit clearer, reader Steve asked us to clarify something else: “What defines a boat, versus a ship?”.One of the quickest ways to reveal yourself as a landlubber is to refer to a ship as a boat, but there’s no absolute distinction between the two, and even experienced mariners rely on local custom and usage to differentiate them.Back in the Age of Sail, a ship was pretty well defined as a vessel with three or more square rigged masts. As different methods of power generation replaced wind and sail, the ships of old became more specifically known as “sailing ships,” and the usage of ship broadened to cover a wide, ill-defined variety of vessels.One thing that sets a ship apart from a boat is size. According the U.S. Naval Institute, a boat, generally speaking, is small enough to be carried aboard a larger vessel, and a vessel large enough to carry a smaller one is a ship. Or, as Steve says his Navy Lieutenant father put it to him, “You can put a boat on a ship, but you can’t put a ship on a boat.”Now, this Naval convention is a good rule of thumb most of the time, but there are a few exceptions, among both naval and civilian vessels. Some yachts, ferries, tug boats, fishing boats, police boats, etc. can carry small lifeboats or dinghies, but they usually don’t graduate to ship status because of that. On the other hand, a large container ship or the USS Cole can be carried aboard an even bigger ship without getting demoted to a boat.The U.S. Navy seems to want to have it both ways with their submarines. One component of each vessel’s official name is USS—that is, United States Ship—but seamen, the Naval Institute says, usually refer to submarines in general as boats, regardless of size.\"\n",
    "passage1 = word_tokenize(passage)\n",
    "stop_word = stopwords.words(\"english\")\n",
    "chrs =[',','?','\"','.']\n",
    "stop_word.extend(chrs)\n",
    "filterd_sentance = []\n",
    "for w  in passage1:\n",
    "    if w not in stop_word:\n",
    "        filterd_sentance.append(w)\n",
    "filterd_sentance = nltk.FreqDist(filterd_sentance)\n",
    "topwords=filterd_sentance.most_common(5)\n",
    "topwords"
   ]
  },
  {
   "cell_type": "code",
   "execution_count": 3,
   "metadata": {
    "collapsed": false
   },
   "outputs": [],
   "source": [
    "lemmatizer = WordNetLemmatizer()\n",
    "y = []\n",
    "for x in passage1:\n",
    "    lemmatizer.lemmatize(x)\n",
    "    y.append(x)"
   ]
  },
  {
   "cell_type": "code",
   "execution_count": 11,
   "metadata": {
    "collapsed": false
   },
   "outputs": [
    {
     "name": "stdout",
     "output_type": "stream",
     "text": [
      "Synset('ship.n.01') :  1.0   Synset('ship.n.01')\n",
      "Synset('submarine.n.01') :  0.88   Synset('ship.n.01')\n",
      "Synset('ship.n.01') :  1.0   Synset('ship.n.01')\n",
      "Synset('yacht.n.01') :  0.9090909090909091   Synset('ship.n.01')\n",
      "Synset('dinghy.n.01') :  0.8333333333333334   Synset('ship.n.01')\n",
      "Synset('boat.n.01') :  0.9090909090909091   Synset('ship.n.01')\n",
      "Synset('lifeboat.n.01') :  0.8333333333333334   Synset('ship.n.01')\n",
      "Synset('boat.n.01') :  0.9090909090909091   Synset('ship.n.01')\n",
      "Synset('ferry.n.01') :  0.8695652173913043   Synset('ship.n.01')\n",
      "Synset('ship.n.01') :  0.9090909090909091   Synset('boat.n.01')\n",
      "Synset('submarine.n.01') :  0.8   Synset('boat.n.01')\n",
      "Synset('ship.n.01') :  0.9090909090909091   Synset('boat.n.01')\n",
      "Synset('yacht.n.01') :  0.9090909090909091   Synset('boat.n.01')\n",
      "Synset('dinghy.n.01') :  0.9166666666666666   Synset('boat.n.01')\n",
      "Synset('boat.n.01') :  1.0   Synset('boat.n.01')\n",
      "Synset('lifeboat.n.01') :  0.9166666666666666   Synset('boat.n.01')\n",
      "Synset('boat.n.01') :  1.0   Synset('boat.n.01')\n",
      "Synset('ferry.n.01') :  0.9565217391304348   Synset('boat.n.01')\n",
      "Synset('vessel.n.01') :  1.0   Synset('vessel.n.01')\n",
      "Synset('vessel.n.01') :  1.0   Synset('vessel.n.01')\n",
      "Synset('ship.n.01') :  0.9090909090909091   Synset('boat.n.01')\n",
      "Synset('submarine.n.01') :  0.8   Synset('boat.n.01')\n",
      "Synset('ship.n.01') :  0.9090909090909091   Synset('boat.n.01')\n",
      "Synset('yacht.n.01') :  0.9090909090909091   Synset('boat.n.01')\n",
      "Synset('dinghy.n.01') :  0.9166666666666666   Synset('boat.n.01')\n",
      "Synset('boat.n.01') :  1.0   Synset('boat.n.01')\n",
      "Synset('lifeboat.n.01') :  0.9166666666666666   Synset('boat.n.01')\n",
      "Synset('boat.n.01') :  1.0   Synset('boat.n.01')\n",
      "Synset('ferry.n.01') :  0.9565217391304348   Synset('boat.n.01')\n",
      "Synset('naval.a.01') :  1.0   Synset('naval.a.01')\n",
      "Synset('naval.a.01') :  1.0   Synset('naval.a.01')\n"
     ]
    }
   ],
   "source": [
    "\n",
    "for i in topwords:\n",
    "    word = wordnet.synsets(i[0])[0]\n",
    "    uniq_filter = set(y)\n",
    "    for w in uniq_filter:\n",
    "        w = wordnet.synsets(w)\n",
    "        if len(w)==0:\n",
    "            continue\n",
    "        else:\n",
    "            if((w[0].wup_similarity(word))!=None and (w[0].wup_similarity(word))>=( 0.8)):\n",
    "                print (w[0], \": \" ,w[0].wup_similarity(word), \" \", word)\n",
    "                \n"
   ]
  },
  {
   "cell_type": "code",
   "execution_count": null,
   "metadata": {
    "collapsed": true
   },
   "outputs": [],
   "source": []
  },
  {
   "cell_type": "code",
   "execution_count": null,
   "metadata": {
    "collapsed": true
   },
   "outputs": [],
   "source": []
  }
 ],
 "metadata": {
  "kernelspec": {
   "display_name": "Python 3",
   "language": "python",
   "name": "python3"
  },
  "language_info": {
   "codemirror_mode": {
    "name": "ipython",
    "version": 3
   },
   "file_extension": ".py",
   "mimetype": "text/x-python",
   "name": "python",
   "nbconvert_exporter": "python",
   "pygments_lexer": "ipython3",
   "version": "3.6.0"
  }
 },
 "nbformat": 4,
 "nbformat_minor": 2
}
