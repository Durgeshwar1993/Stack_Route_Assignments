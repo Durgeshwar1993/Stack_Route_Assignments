{
 "cells": [
  {
   "cell_type": "markdown",
   "metadata": {},
   "source": [
    "# Kepler's Law #\n"
   ]
  },
  {
   "cell_type": "markdown",
   "metadata": {},
   "source": [
    "# import function #"
   ]
  },
  {
   "cell_type": "code",
   "execution_count": 1,
   "metadata": {
    "collapsed": false
   },
   "outputs": [],
   "source": [
    "import pandas as pd\n",
    "import seaborn as sns\n",
    "import matplotlib.pyplot as plt\n",
    "from sklearn import datasets, linear_model, preprocessing\n",
    "import numpy as np\n",
    "import statsmodels.formula.api as sm\n",
    "import statsmodels.stats.diagnostic as sms\n",
    "from statsmodels.compat import lzip"
   ]
  },
  {
   "cell_type": "markdown",
   "metadata": {},
   "source": [
    "# load data #"
   ]
  },
  {
   "cell_type": "code",
   "execution_count": 2,
   "metadata": {
    "collapsed": true
   },
   "outputs": [],
   "source": [
    "df = pd.read_csv('/home/user/Documents/Ex01_Kepler_Regression.csv')\n"
   ]
  },
  {
   "cell_type": "markdown",
   "metadata": {},
   "source": [
    "# Corelation plot #\n",
    "\n"
   ]
  },
  {
   "cell_type": "code",
   "execution_count": 3,
   "metadata": {
    "collapsed": false
   },
   "outputs": [
    {
     "data": {
      "text/html": [
       "<div>\n",
       "<table border=\"1\" class=\"dataframe\">\n",
       "  <thead>\n",
       "    <tr style=\"text-align: right;\">\n",
       "      <th></th>\n",
       "      <th>SemiMajorAxis</th>\n",
       "      <th>Volume</th>\n",
       "      <th>EscapeVelocity</th>\n",
       "      <th>Density</th>\n",
       "      <th>OrbitalPeriod</th>\n",
       "    </tr>\n",
       "  </thead>\n",
       "  <tbody>\n",
       "    <tr>\n",
       "      <th>SemiMajorAxis</th>\n",
       "      <td>1.000000</td>\n",
       "      <td>0.278926</td>\n",
       "      <td>0.323329</td>\n",
       "      <td>-0.716234</td>\n",
       "      <td>0.918149</td>\n",
       "    </tr>\n",
       "    <tr>\n",
       "      <th>Volume</th>\n",
       "      <td>0.278926</td>\n",
       "      <td>1.000000</td>\n",
       "      <td>-0.015625</td>\n",
       "      <td>-0.153851</td>\n",
       "      <td>0.229391</td>\n",
       "    </tr>\n",
       "    <tr>\n",
       "      <th>EscapeVelocity</th>\n",
       "      <td>0.323329</td>\n",
       "      <td>-0.015625</td>\n",
       "      <td>1.000000</td>\n",
       "      <td>-0.687354</td>\n",
       "      <td>0.225476</td>\n",
       "    </tr>\n",
       "    <tr>\n",
       "      <th>Density</th>\n",
       "      <td>-0.716234</td>\n",
       "      <td>-0.153851</td>\n",
       "      <td>-0.687354</td>\n",
       "      <td>1.000000</td>\n",
       "      <td>-0.565611</td>\n",
       "    </tr>\n",
       "    <tr>\n",
       "      <th>OrbitalPeriod</th>\n",
       "      <td>0.918149</td>\n",
       "      <td>0.229391</td>\n",
       "      <td>0.225476</td>\n",
       "      <td>-0.565611</td>\n",
       "      <td>1.000000</td>\n",
       "    </tr>\n",
       "  </tbody>\n",
       "</table>\n",
       "</div>"
      ],
      "text/plain": [
       "                SemiMajorAxis    Volume  EscapeVelocity   Density  \\\n",
       "SemiMajorAxis        1.000000  0.278926        0.323329 -0.716234   \n",
       "Volume               0.278926  1.000000       -0.015625 -0.153851   \n",
       "EscapeVelocity       0.323329 -0.015625        1.000000 -0.687354   \n",
       "Density             -0.716234 -0.153851       -0.687354  1.000000   \n",
       "OrbitalPeriod        0.918149  0.229391        0.225476 -0.565611   \n",
       "\n",
       "                OrbitalPeriod  \n",
       "SemiMajorAxis        0.918149  \n",
       "Volume               0.229391  \n",
       "EscapeVelocity       0.225476  \n",
       "Density             -0.565611  \n",
       "OrbitalPeriod        1.000000  "
      ]
     },
     "execution_count": 3,
     "metadata": {},
     "output_type": "execute_result"
    }
   ],
   "source": [
    "df.corr()"
   ]
  },
  {
   "cell_type": "code",
   "execution_count": 4,
   "metadata": {
    "collapsed": false
   },
   "outputs": [
    {
     "data": {
      "image/png": "[encoded data removed]",
      "text/plain": [
       "<matplotlib.figure.Figure at 0x7f2f9d3adef0>"
      ]
     },
     "metadata": {},
     "output_type": "display_data"
    }
   ],
   "source": [
    "corr = df.corr()\n",
    "sns.heatmap(corr, \n",
    "            xticklabels=corr.columns.values,\n",
    "            yticklabels=corr.columns.values)\n",
    "plt.show()"
   ]
  },
  {
   "cell_type": "markdown",
   "metadata": {},
   "source": [
    "# scatter matrix #"
   ]
  },
  {
   "cell_type": "code",
   "execution_count": 5,
   "metadata": {
    "collapsed": false
   },
   "outputs": [
    {
     "data": {
      "image/png": "[encoded data removed]",
      "text/plain": [
       "<matplotlib.figure.Figure at 0x7f2f99fc0a58>"
      ]
     },
     "metadata": {},
     "output_type": "display_data"
    }
   ],
   "source": [
    "pd.scatter_matrix(df, alpha=0.2, figsize=(6,6), diagonal='kde')\n",
    "plt.show()"
   ]
  },
  {
   "cell_type": "markdown",
   "metadata": {},
   "source": [
    "# transformation to log function #"
   ]
  },
  {
   "cell_type": "code",
   "execution_count": 6,
   "metadata": {
    "collapsed": false
   },
   "outputs": [
    {
     "data": {
      "text/html": [
       "<div>\n",
       "<table border=\"1\" class=\"dataframe\">\n",
       "  <thead>\n",
       "    <tr style=\"text-align: right;\">\n",
       "      <th></th>\n",
       "      <th>SemiMajorAxis</th>\n",
       "      <th>Volume</th>\n",
       "      <th>EscapeVelocity</th>\n",
       "      <th>Density</th>\n",
       "      <th>planet</th>\n",
       "      <th>OrbitalPeriod</th>\n",
       "    </tr>\n",
       "  </thead>\n",
       "  <tbody>\n",
       "    <tr>\n",
       "      <th>0</th>\n",
       "      <td>-0.412333</td>\n",
       "      <td>10.236030</td>\n",
       "      <td>10.892849</td>\n",
       "      <td>6.072644</td>\n",
       "      <td>Venus</td>\n",
       "      <td>-0.802161</td>\n",
       "    </tr>\n",
       "    <tr>\n",
       "      <th>1</th>\n",
       "      <td>2.461425</td>\n",
       "      <td>8.132345</td>\n",
       "      <td>34.080931</td>\n",
       "      <td>0.758931</td>\n",
       "      <td>Saturn</td>\n",
       "      <td>3.700016</td>\n",
       "    </tr>\n",
       "    <tr>\n",
       "      <th>2</th>\n",
       "      <td>1.589867</td>\n",
       "      <td>1.538470</td>\n",
       "      <td>58.493158</td>\n",
       "      <td>1.281688</td>\n",
       "      <td>Jupiter</td>\n",
       "      <td>2.308869</td>\n",
       "    </tr>\n",
       "    <tr>\n",
       "      <th>3</th>\n",
       "      <td>-0.200933</td>\n",
       "      <td>8.532505</td>\n",
       "      <td>10.034185</td>\n",
       "      <td>6.129132</td>\n",
       "      <td>Venus</td>\n",
       "      <td>-0.595033</td>\n",
       "    </tr>\n",
       "    <tr>\n",
       "      <th>4</th>\n",
       "      <td>3.296440</td>\n",
       "      <td>7.106079</td>\n",
       "      <td>25.796580</td>\n",
       "      <td>2.108022</td>\n",
       "      <td>Neptune</td>\n",
       "      <td>5.419164</td>\n",
       "    </tr>\n",
       "    <tr>\n",
       "      <th>5</th>\n",
       "      <td>3.204610</td>\n",
       "      <td>5.467985</td>\n",
       "      <td>24.884934</td>\n",
       "      <td>1.920847</td>\n",
       "      <td>Neptune</td>\n",
       "      <td>4.726202</td>\n",
       "    </tr>\n",
       "    <tr>\n",
       "      <th>6</th>\n",
       "      <td>-0.360801</td>\n",
       "      <td>10.022764</td>\n",
       "      <td>10.050127</td>\n",
       "      <td>4.778389</td>\n",
       "      <td>Venus</td>\n",
       "      <td>-0.692857</td>\n",
       "    </tr>\n",
       "    <tr>\n",
       "      <th>7</th>\n",
       "      <td>3.045018</td>\n",
       "      <td>7.157667</td>\n",
       "      <td>20.691601</td>\n",
       "      <td>1.347757</td>\n",
       "      <td>Uranus</td>\n",
       "      <td>5.190706</td>\n",
       "    </tr>\n",
       "    <tr>\n",
       "      <th>8</th>\n",
       "      <td>0.532633</td>\n",
       "      <td>1.676122</td>\n",
       "      <td>5.537115</td>\n",
       "      <td>4.229687</td>\n",
       "      <td>Mars</td>\n",
       "      <td>0.999928</td>\n",
       "    </tr>\n",
       "    <tr>\n",
       "      <th>9</th>\n",
       "      <td>1.813253</td>\n",
       "      <td>1.530082</td>\n",
       "      <td>58.528652</td>\n",
       "      <td>1.346489</td>\n",
       "      <td>Jupiter</td>\n",
       "      <td>2.781105</td>\n",
       "    </tr>\n",
       "    <tr>\n",
       "      <th>10</th>\n",
       "      <td>1.467267</td>\n",
       "      <td>1.489463</td>\n",
       "      <td>68.098124</td>\n",
       "      <td>1.553818</td>\n",
       "      <td>Jupiter</td>\n",
       "      <td>2.189755</td>\n",
       "    </tr>\n",
       "    <tr>\n",
       "      <th>11</th>\n",
       "      <td>-0.125380</td>\n",
       "      <td>8.710400</td>\n",
       "      <td>10.258600</td>\n",
       "      <td>6.052999</td>\n",
       "      <td>Venus</td>\n",
       "      <td>-0.153268</td>\n",
       "    </tr>\n",
       "    <tr>\n",
       "      <th>12</th>\n",
       "      <td>2.881118</td>\n",
       "      <td>6.652499</td>\n",
       "      <td>20.615391</td>\n",
       "      <td>1.196303</td>\n",
       "      <td>Uranus</td>\n",
       "      <td>4.244873</td>\n",
       "    </tr>\n",
       "    <tr>\n",
       "      <th>13</th>\n",
       "      <td>-0.312688</td>\n",
       "      <td>9.624508</td>\n",
       "      <td>8.554682</td>\n",
       "      <td>4.995082</td>\n",
       "      <td>Venus</td>\n",
       "      <td>-0.671410</td>\n",
       "    </tr>\n",
       "    <tr>\n",
       "      <th>14</th>\n",
       "      <td>0.469334</td>\n",
       "      <td>1.431034</td>\n",
       "      <td>4.705471</td>\n",
       "      <td>3.254832</td>\n",
       "      <td>Mars</td>\n",
       "      <td>0.986609</td>\n",
       "    </tr>\n",
       "    <tr>\n",
       "      <th>15</th>\n",
       "      <td>2.869433</td>\n",
       "      <td>6.254911</td>\n",
       "      <td>18.509679</td>\n",
       "      <td>1.106441</td>\n",
       "      <td>Uranus</td>\n",
       "      <td>4.452060</td>\n",
       "    </tr>\n",
       "    <tr>\n",
       "      <th>16</th>\n",
       "      <td>3.201313</td>\n",
       "      <td>7.697770</td>\n",
       "      <td>28.760828</td>\n",
       "      <td>1.595442</td>\n",
       "      <td>Neptune</td>\n",
       "      <td>4.935114</td>\n",
       "    </tr>\n",
       "    <tr>\n",
       "      <th>17</th>\n",
       "      <td>-0.376433</td>\n",
       "      <td>7.526290</td>\n",
       "      <td>10.849397</td>\n",
       "      <td>5.903595</td>\n",
       "      <td>Venus</td>\n",
       "      <td>-0.585636</td>\n",
       "    </tr>\n",
       "    <tr>\n",
       "      <th>18</th>\n",
       "      <td>0.427128</td>\n",
       "      <td>1.441715</td>\n",
       "      <td>5.291881</td>\n",
       "      <td>3.806160</td>\n",
       "      <td>Mars</td>\n",
       "      <td>1.031267</td>\n",
       "    </tr>\n",
       "    <tr>\n",
       "      <th>19</th>\n",
       "      <td>-1.041467</td>\n",
       "      <td>6.716326</td>\n",
       "      <td>4.234435</td>\n",
       "      <td>5.452676</td>\n",
       "      <td>Mercury</td>\n",
       "      <td>-1.969998</td>\n",
       "    </tr>\n",
       "    <tr>\n",
       "      <th>20</th>\n",
       "      <td>2.162667</td>\n",
       "      <td>9.222608</td>\n",
       "      <td>27.037753</td>\n",
       "      <td>0.697545</td>\n",
       "      <td>Saturn</td>\n",
       "      <td>3.710312</td>\n",
       "    </tr>\n",
       "    <tr>\n",
       "      <th>21</th>\n",
       "      <td>0.451755</td>\n",
       "      <td>1.774767</td>\n",
       "      <td>4.996399</td>\n",
       "      <td>4.938755</td>\n",
       "      <td>Mars</td>\n",
       "      <td>1.112184</td>\n",
       "    </tr>\n",
       "    <tr>\n",
       "      <th>22</th>\n",
       "      <td>2.937266</td>\n",
       "      <td>6.871962</td>\n",
       "      <td>21.300086</td>\n",
       "      <td>1.144251</td>\n",
       "      <td>Uranus</td>\n",
       "      <td>4.684380</td>\n",
       "    </tr>\n",
       "    <tr>\n",
       "      <th>23</th>\n",
       "      <td>-0.285019</td>\n",
       "      <td>9.589921</td>\n",
       "      <td>9.165275</td>\n",
       "      <td>5.937520</td>\n",
       "      <td>Venus</td>\n",
       "      <td>-0.819705</td>\n",
       "    </tr>\n",
       "    <tr>\n",
       "      <th>24</th>\n",
       "      <td>-0.005372</td>\n",
       "      <td>0.989517</td>\n",
       "      <td>11.464084</td>\n",
       "      <td>5.501019</td>\n",
       "      <td>Earth</td>\n",
       "      <td>0.074922</td>\n",
       "    </tr>\n",
       "    <tr>\n",
       "      <th>25</th>\n",
       "      <td>0.327999</td>\n",
       "      <td>1.528773</td>\n",
       "      <td>5.894089</td>\n",
       "      <td>3.678096</td>\n",
       "      <td>Mars</td>\n",
       "      <td>0.252246</td>\n",
       "    </tr>\n",
       "    <tr>\n",
       "      <th>26</th>\n",
       "      <td>-0.198153</td>\n",
       "      <td>9.043799</td>\n",
       "      <td>10.323267</td>\n",
       "      <td>5.120582</td>\n",
       "      <td>Venus</td>\n",
       "      <td>-0.410304</td>\n",
       "    </tr>\n",
       "    <tr>\n",
       "      <th>27</th>\n",
       "      <td>0.077179</td>\n",
       "      <td>0.986554</td>\n",
       "      <td>12.392213</td>\n",
       "      <td>7.111330</td>\n",
       "      <td>Earth</td>\n",
       "      <td>-0.065916</td>\n",
       "    </tr>\n",
       "    <tr>\n",
       "      <th>28</th>\n",
       "      <td>3.506450</td>\n",
       "      <td>6.789229</td>\n",
       "      <td>22.780220</td>\n",
       "      <td>1.696616</td>\n",
       "      <td>Neptune</td>\n",
       "      <td>4.531524</td>\n",
       "    </tr>\n",
       "    <tr>\n",
       "      <th>29</th>\n",
       "      <td>-0.469508</td>\n",
       "      <td>7.892389</td>\n",
       "      <td>10.429899</td>\n",
       "      <td>5.660046</td>\n",
       "      <td>Venus</td>\n",
       "      <td>-0.858172</td>\n",
       "    </tr>\n",
       "    <tr>\n",
       "      <th>...</th>\n",
       "      <td>...</td>\n",
       "      <td>...</td>\n",
       "      <td>...</td>\n",
       "      <td>...</td>\n",
       "      <td>...</td>\n",
       "      <td>...</td>\n",
       "    </tr>\n",
       "    <tr>\n",
       "      <th>70</th>\n",
       "      <td>0.124120</td>\n",
       "      <td>1.127208</td>\n",
       "      <td>10.636251</td>\n",
       "      <td>5.943694</td>\n",
       "      <td>Earth</td>\n",
       "      <td>0.231201</td>\n",
       "    </tr>\n",
       "    <tr>\n",
       "      <th>71</th>\n",
       "      <td>0.013886</td>\n",
       "      <td>1.163556</td>\n",
       "      <td>12.467101</td>\n",
       "      <td>4.868668</td>\n",
       "      <td>Earth</td>\n",
       "      <td>0.265968</td>\n",
       "    </tr>\n",
       "    <tr>\n",
       "      <th>72</th>\n",
       "      <td>-0.780855</td>\n",
       "      <td>5.619139</td>\n",
       "      <td>4.660310</td>\n",
       "      <td>6.253456</td>\n",
       "      <td>Mercury</td>\n",
       "      <td>-1.048776</td>\n",
       "    </tr>\n",
       "    <tr>\n",
       "      <th>73</th>\n",
       "      <td>-0.371568</td>\n",
       "      <td>11.253846</td>\n",
       "      <td>10.744646</td>\n",
       "      <td>5.649555</td>\n",
       "      <td>Venus</td>\n",
       "      <td>-0.514569</td>\n",
       "    </tr>\n",
       "    <tr>\n",
       "      <th>74</th>\n",
       "      <td>-0.432927</td>\n",
       "      <td>9.349929</td>\n",
       "      <td>10.670331</td>\n",
       "      <td>5.967931</td>\n",
       "      <td>Venus</td>\n",
       "      <td>-0.680482</td>\n",
       "    </tr>\n",
       "    <tr>\n",
       "      <th>75</th>\n",
       "      <td>3.005190</td>\n",
       "      <td>7.161302</td>\n",
       "      <td>22.448691</td>\n",
       "      <td>1.356613</td>\n",
       "      <td>Uranus</td>\n",
       "      <td>4.718365</td>\n",
       "    </tr>\n",
       "    <tr>\n",
       "      <th>76</th>\n",
       "      <td>-0.066959</td>\n",
       "      <td>1.073521</td>\n",
       "      <td>12.317308</td>\n",
       "      <td>5.821099</td>\n",
       "      <td>Earth</td>\n",
       "      <td>0.211782</td>\n",
       "    </tr>\n",
       "    <tr>\n",
       "      <th>77</th>\n",
       "      <td>3.015313</td>\n",
       "      <td>7.472122</td>\n",
       "      <td>25.767089</td>\n",
       "      <td>1.341207</td>\n",
       "      <td>Uranus</td>\n",
       "      <td>4.537708</td>\n",
       "    </tr>\n",
       "    <tr>\n",
       "      <th>78</th>\n",
       "      <td>0.246311</td>\n",
       "      <td>1.571943</td>\n",
       "      <td>5.834037</td>\n",
       "      <td>3.490755</td>\n",
       "      <td>Mars</td>\n",
       "      <td>0.895758</td>\n",
       "    </tr>\n",
       "    <tr>\n",
       "      <th>79</th>\n",
       "      <td>1.471848</td>\n",
       "      <td>1.793904</td>\n",
       "      <td>57.712025</td>\n",
       "      <td>1.376823</td>\n",
       "      <td>Jupiter</td>\n",
       "      <td>2.223436</td>\n",
       "    </tr>\n",
       "    <tr>\n",
       "      <th>80</th>\n",
       "      <td>0.068980</td>\n",
       "      <td>1.267744</td>\n",
       "      <td>12.291750</td>\n",
       "      <td>4.909098</td>\n",
       "      <td>Earth</td>\n",
       "      <td>-0.516422</td>\n",
       "    </tr>\n",
       "    <tr>\n",
       "      <th>81</th>\n",
       "      <td>2.287891</td>\n",
       "      <td>6.802972</td>\n",
       "      <td>35.180209</td>\n",
       "      <td>0.686468</td>\n",
       "      <td>Saturn</td>\n",
       "      <td>3.320650</td>\n",
       "    </tr>\n",
       "    <tr>\n",
       "      <th>82</th>\n",
       "      <td>-0.864811</td>\n",
       "      <td>5.717695</td>\n",
       "      <td>4.168459</td>\n",
       "      <td>4.901396</td>\n",
       "      <td>Mercury</td>\n",
       "      <td>-0.789292</td>\n",
       "    </tr>\n",
       "    <tr>\n",
       "      <th>83</th>\n",
       "      <td>0.217086</td>\n",
       "      <td>1.626920</td>\n",
       "      <td>5.399757</td>\n",
       "      <td>4.486709</td>\n",
       "      <td>Mars</td>\n",
       "      <td>0.670722</td>\n",
       "    </tr>\n",
       "    <tr>\n",
       "      <th>84</th>\n",
       "      <td>-0.207246</td>\n",
       "      <td>7.815891</td>\n",
       "      <td>11.482139</td>\n",
       "      <td>5.269709</td>\n",
       "      <td>Venus</td>\n",
       "      <td>-0.342253</td>\n",
       "    </tr>\n",
       "    <tr>\n",
       "      <th>85</th>\n",
       "      <td>3.071481</td>\n",
       "      <td>6.149791</td>\n",
       "      <td>20.645935</td>\n",
       "      <td>1.230446</td>\n",
       "      <td>Uranus</td>\n",
       "      <td>4.452516</td>\n",
       "    </tr>\n",
       "    <tr>\n",
       "      <th>86</th>\n",
       "      <td>3.504404</td>\n",
       "      <td>5.907100</td>\n",
       "      <td>25.596895</td>\n",
       "      <td>1.598030</td>\n",
       "      <td>Neptune</td>\n",
       "      <td>5.713709</td>\n",
       "    </tr>\n",
       "    <tr>\n",
       "      <th>87</th>\n",
       "      <td>0.078641</td>\n",
       "      <td>1.136781</td>\n",
       "      <td>11.156044</td>\n",
       "      <td>5.639544</td>\n",
       "      <td>Earth</td>\n",
       "      <td>0.020198</td>\n",
       "    </tr>\n",
       "    <tr>\n",
       "      <th>88</th>\n",
       "      <td>2.465802</td>\n",
       "      <td>8.351023</td>\n",
       "      <td>41.202699</td>\n",
       "      <td>0.709162</td>\n",
       "      <td>Saturn</td>\n",
       "      <td>4.073954</td>\n",
       "    </tr>\n",
       "    <tr>\n",
       "      <th>89</th>\n",
       "      <td>-0.145381</td>\n",
       "      <td>1.021370</td>\n",
       "      <td>11.691876</td>\n",
       "      <td>5.275475</td>\n",
       "      <td>Earth</td>\n",
       "      <td>-0.022674</td>\n",
       "    </tr>\n",
       "    <tr>\n",
       "      <th>90</th>\n",
       "      <td>3.342887</td>\n",
       "      <td>6.203063</td>\n",
       "      <td>24.128521</td>\n",
       "      <td>1.353425</td>\n",
       "      <td>Neptune</td>\n",
       "      <td>5.041962</td>\n",
       "    </tr>\n",
       "    <tr>\n",
       "      <th>91</th>\n",
       "      <td>0.459683</td>\n",
       "      <td>2.178258</td>\n",
       "      <td>5.218208</td>\n",
       "      <td>3.820485</td>\n",
       "      <td>Mars</td>\n",
       "      <td>0.670374</td>\n",
       "    </tr>\n",
       "    <tr>\n",
       "      <th>92</th>\n",
       "      <td>0.338012</td>\n",
       "      <td>1.834856</td>\n",
       "      <td>4.412937</td>\n",
       "      <td>3.358660</td>\n",
       "      <td>Mars</td>\n",
       "      <td>0.256205</td>\n",
       "    </tr>\n",
       "    <tr>\n",
       "      <th>93</th>\n",
       "      <td>1.654646</td>\n",
       "      <td>1.512151</td>\n",
       "      <td>60.934471</td>\n",
       "      <td>1.370006</td>\n",
       "      <td>Jupiter</td>\n",
       "      <td>3.000593</td>\n",
       "    </tr>\n",
       "    <tr>\n",
       "      <th>94</th>\n",
       "      <td>0.493335</td>\n",
       "      <td>1.764018</td>\n",
       "      <td>5.394849</td>\n",
       "      <td>4.028425</td>\n",
       "      <td>Mars</td>\n",
       "      <td>0.449877</td>\n",
       "    </tr>\n",
       "    <tr>\n",
       "      <th>95</th>\n",
       "      <td>-0.393871</td>\n",
       "      <td>8.774166</td>\n",
       "      <td>10.102764</td>\n",
       "      <td>5.178577</td>\n",
       "      <td>Venus</td>\n",
       "      <td>-0.420899</td>\n",
       "    </tr>\n",
       "    <tr>\n",
       "      <th>96</th>\n",
       "      <td>0.484421</td>\n",
       "      <td>1.648687</td>\n",
       "      <td>4.862391</td>\n",
       "      <td>3.659057</td>\n",
       "      <td>Mars</td>\n",
       "      <td>0.591445</td>\n",
       "    </tr>\n",
       "    <tr>\n",
       "      <th>97</th>\n",
       "      <td>-0.896927</td>\n",
       "      <td>6.256683</td>\n",
       "      <td>4.689206</td>\n",
       "      <td>6.040462</td>\n",
       "      <td>Mercury</td>\n",
       "      <td>-1.674755</td>\n",
       "    </tr>\n",
       "    <tr>\n",
       "      <th>98</th>\n",
       "      <td>-1.032591</td>\n",
       "      <td>5.801142</td>\n",
       "      <td>4.616990</td>\n",
       "      <td>4.436684</td>\n",
       "      <td>Mercury</td>\n",
       "      <td>-1.925269</td>\n",
       "    </tr>\n",
       "    <tr>\n",
       "      <th>99</th>\n",
       "      <td>0.318972</td>\n",
       "      <td>1.558749</td>\n",
       "      <td>5.215888</td>\n",
       "      <td>4.133983</td>\n",
       "      <td>Mars</td>\n",
       "      <td>1.125462</td>\n",
       "    </tr>\n",
       "  </tbody>\n",
       "</table>\n",
       "<p>100 rows × 6 columns</p>\n",
       "</div>"
      ],
      "text/plain": [
       "    SemiMajorAxis     Volume  EscapeVelocity   Density   planet  OrbitalPeriod\n",
       "0       -0.412333  10.236030       10.892849  6.072644    Venus      -0.802161\n",
       "1        2.461425   8.132345       34.080931  0.758931   Saturn       3.700016\n",
       "2        1.589867   1.538470       58.493158  1.281688  Jupiter       2.308869\n",
       "3       -0.200933   8.532505       10.034185  6.129132    Venus      -0.595033\n",
       "4        3.296440   7.106079       25.796580  2.108022  Neptune       5.419164\n",
       "5        3.204610   5.467985       24.884934  1.920847  Neptune       4.726202\n",
       "6       -0.360801  10.022764       10.050127  4.778389    Venus      -0.692857\n",
       "7        3.045018   7.157667       20.691601  1.347757   Uranus       5.190706\n",
       "8        0.532633   1.676122        5.537115  4.229687     Mars       0.999928\n",
       "9        1.813253   1.530082       58.528652  1.346489  Jupiter       2.781105\n",
       "10       1.467267   1.489463       68.098124  1.553818  Jupiter       2.189755\n",
       "11      -0.125380   8.710400       10.258600  6.052999    Venus      -0.153268\n",
       "12       2.881118   6.652499       20.615391  1.196303   Uranus       4.244873\n",
       "13      -0.312688   9.624508        8.554682  4.995082    Venus      -0.671410\n",
       "14       0.469334   1.431034        4.705471  3.254832     Mars       0.986609\n",
       "15       2.869433   6.254911       18.509679  1.106441   Uranus       4.452060\n",
       "16       3.201313   7.697770       28.760828  1.595442  Neptune       4.935114\n",
       "17      -0.376433   7.526290       10.849397  5.903595    Venus      -0.585636\n",
       "18       0.427128   1.441715        5.291881  3.806160     Mars       1.031267\n",
       "19      -1.041467   6.716326        4.234435  5.452676  Mercury      -1.969998\n",
       "20       2.162667   9.222608       27.037753  0.697545   Saturn       3.710312\n",
       "21       0.451755   1.774767        4.996399  4.938755     Mars       1.112184\n",
       "22       2.937266   6.871962       21.300086  1.144251   Uranus       4.684380\n",
       "23      -0.285019   9.589921        9.165275  5.937520    Venus      -0.819705\n",
       "24      -0.005372   0.989517       11.464084  5.501019    Earth       0.074922\n",
       "25       0.327999   1.528773        5.894089  3.678096     Mars       0.252246\n",
       "26      -0.198153   9.043799       10.323267  5.120582    Venus      -0.410304\n",
       "27       0.077179   0.986554       12.392213  7.111330    Earth      -0.065916\n",
       "28       3.506450   6.789229       22.780220  1.696616  Neptune       4.531524\n",
       "29      -0.469508   7.892389       10.429899  5.660046    Venus      -0.858172\n",
       "..            ...        ...             ...       ...      ...            ...\n",
       "70       0.124120   1.127208       10.636251  5.943694    Earth       0.231201\n",
       "71       0.013886   1.163556       12.467101  4.868668    Earth       0.265968\n",
       "72      -0.780855   5.619139        4.660310  6.253456  Mercury      -1.048776\n",
       "73      -0.371568  11.253846       10.744646  5.649555    Venus      -0.514569\n",
       "74      -0.432927   9.349929       10.670331  5.967931    Venus      -0.680482\n",
       "75       3.005190   7.161302       22.448691  1.356613   Uranus       4.718365\n",
       "76      -0.066959   1.073521       12.317308  5.821099    Earth       0.211782\n",
       "77       3.015313   7.472122       25.767089  1.341207   Uranus       4.537708\n",
       "78       0.246311   1.571943        5.834037  3.490755     Mars       0.895758\n",
       "79       1.471848   1.793904       57.712025  1.376823  Jupiter       2.223436\n",
       "80       0.068980   1.267744       12.291750  4.909098    Earth      -0.516422\n",
       "81       2.287891   6.802972       35.180209  0.686468   Saturn       3.320650\n",
       "82      -0.864811   5.717695        4.168459  4.901396  Mercury      -0.789292\n",
       "83       0.217086   1.626920        5.399757  4.486709     Mars       0.670722\n",
       "84      -0.207246   7.815891       11.482139  5.269709    Venus      -0.342253\n",
       "85       3.071481   6.149791       20.645935  1.230446   Uranus       4.452516\n",
       "86       3.504404   5.907100       25.596895  1.598030  Neptune       5.713709\n",
       "87       0.078641   1.136781       11.156044  5.639544    Earth       0.020198\n",
       "88       2.465802   8.351023       41.202699  0.709162   Saturn       4.073954\n",
       "89      -0.145381   1.021370       11.691876  5.275475    Earth      -0.022674\n",
       "90       3.342887   6.203063       24.128521  1.353425  Neptune       5.041962\n",
       "91       0.459683   2.178258        5.218208  3.820485     Mars       0.670374\n",
       "92       0.338012   1.834856        4.412937  3.358660     Mars       0.256205\n",
       "93       1.654646   1.512151       60.934471  1.370006  Jupiter       3.000593\n",
       "94       0.493335   1.764018        5.394849  4.028425     Mars       0.449877\n",
       "95      -0.393871   8.774166       10.102764  5.178577    Venus      -0.420899\n",
       "96       0.484421   1.648687        4.862391  3.659057     Mars       0.591445\n",
       "97      -0.896927   6.256683        4.689206  6.040462  Mercury      -1.674755\n",
       "98      -1.032591   5.801142        4.616990  4.436684  Mercury      -1.925269\n",
       "99       0.318972   1.558749        5.215888  4.133983     Mars       1.125462\n",
       "\n",
       "[100 rows x 6 columns]"
      ]
     },
     "execution_count": 6,
     "metadata": {},
     "output_type": "execute_result"
    }
   ],
   "source": [
    "df['SemiMajorAxis'] = np.log(df['SemiMajorAxis'])\n",
    "df['OrbitalPeriod'] = np.log(df['OrbitalPeriod'])\n",
    "df"
   ]
  },
  {
   "cell_type": "markdown",
   "metadata": {},
   "source": [
    "# regression model #"
   ]
  },
  {
   "cell_type": "code",
   "execution_count": 7,
   "metadata": {
    "collapsed": false
   },
   "outputs": [],
   "source": [
    "x= df.loc[ : ,['SemiMajorAxis']]\n",
    "y = df.loc[ : ,['OrbitalPeriod']]\n",
    "x_train= x.iloc[0:-20,:]\n",
    "y_train=y.iloc[0:-20,:]\n",
    "x_test = x.iloc[-20: , :]\n",
    "y_test = y.iloc[-20 : ,:]\n",
    "regr = linear_model.LinearRegression()"
   ]
  },
  {
   "cell_type": "code",
   "execution_count": 8,
   "metadata": {
    "collapsed": false
   },
   "outputs": [
    {
     "data": {
      "text/plain": [
       "LinearRegression(copy_X=True, fit_intercept=True, n_jobs=1, normalize=False)"
      ]
     },
     "execution_count": 8,
     "metadata": {},
     "output_type": "execute_result"
    }
   ],
   "source": [
    "regr.fit(x_train,y_train)"
   ]
  },
  {
   "cell_type": "code",
   "execution_count": 9,
   "metadata": {
    "collapsed": false
   },
   "outputs": [
    {
     "name": "stdout",
     "output_type": "stream",
     "text": [
      "Coefficients: \n",
      " [[ 1.49926441]]\n"
     ]
    }
   ],
   "source": [
    "print('Coefficients: \\n', regr.coef_)"
   ]
  },
  {
   "cell_type": "markdown",
   "metadata": {},
   "source": [
    "# mean #"
   ]
  },
  {
   "cell_type": "code",
   "execution_count": 10,
   "metadata": {
    "collapsed": false
   },
   "outputs": [
    {
     "data": {
      "text/plain": [
       "OrbitalPeriod    0.115455\n",
       "dtype: float64"
      ]
     },
     "execution_count": 10,
     "metadata": {},
     "output_type": "execute_result"
    }
   ],
   "source": [
    "np.mean((regr.predict(x_test) - y_test) ** 2)"
   ]
  },
  {
   "cell_type": "markdown",
   "metadata": {},
   "source": [
    "# plot #"
   ]
  },
  {
   "cell_type": "code",
   "execution_count": 14,
   "metadata": {
    "collapsed": false
   },
   "outputs": [
    {
     "data": {
      "image/png": "[encoded data removed]",
      "text/plain": [
       "<matplotlib.figure.Figure at 0x7f2f997aa0f0>"
      ]
     },
     "metadata": {},
     "output_type": "display_data"
    }
   ],
   "source": [
    "plt.scatter(regr.predict(x_test), y_test,  color='black')\n",
    "plt.show()"
   ]
  },
  {
   "cell_type": "markdown",
   "metadata": {},
   "source": [
    "# histogram plot #"
   ]
  },
  {
   "cell_type": "code",
   "execution_count": 16,
   "metadata": {
    "collapsed": false
   },
   "outputs": [
    {
     "data": {
      "image/png": "[encoded data removed]",
      "text/plain": [
       "<matplotlib.figure.Figure at 0x7f2f99634d30>"
      ]
     },
     "metadata": {},
     "output_type": "display_data"
    }
   ],
   "source": [
    "residue= regr.predict(x_test) - y_test\n",
    "plt.hist(np.array(residue),bins=10)\n",
    "plt.show()"
   ]
  },
  {
   "cell_type": "markdown",
   "metadata": {},
   "source": [
    "# box plot #"
   ]
  },
  {
   "cell_type": "code",
   "execution_count": null,
   "metadata": {
    "collapsed": false
   },
   "outputs": [],
   "source": [
    "residue= regr.predict(x_test) - y_test\n",
    "residue.plot(kind='box')\n",
    "plt.show()"
   ]
  },
  {
   "cell_type": "markdown",
   "metadata": {},
   "source": [
    "# calculation of p-value and F statistic #"
   ]
  },
  {
   "cell_type": "code",
   "execution_count": null,
   "metadata": {
    "collapsed": false
   },
   "outputs": [],
   "source": [
    "name = ['F statistic' , 'p-value']\n",
    "test= sms.het_goldfeldquandt(result.resid , result.model.exog)\n",
    "lzip(name,test)"
   ]
  },
  {
   "cell_type": "markdown",
   "metadata": {},
   "source": [
    "# model 2 #\n"
   ]
  },
  {
   "cell_type": "markdown",
   "metadata": {},
   "source": [
    "## working with original data ##"
   ]
  },
  {
   "cell_type": "code",
   "execution_count": null,
   "metadata": {
    "collapsed": true
   },
   "outputs": [],
   "source": [
    "x= df1.loc[ : ,['SemiMajorAxis']]\n",
    "y = df1.loc[ : ,['OrbitalPeriod']]\n",
    "x_train= x.iloc[0:-20,:]\n",
    "y_train=y.iloc[0:-20,:]\n",
    "x_test = x.iloc[-20: , :]\n",
    "y_test = y.iloc[-20 : ,:]"
   ]
  },
  {
   "cell_type": "code",
   "execution_count": 13,
   "metadata": {
    "collapsed": false
   },
   "outputs": [
    {
     "data": {
      "image/png": "[encoded data removed]",
      "text/plain": [
       "<matplotlib.figure.Figure at 0x7f2f98063128>"
      ]
     },
     "metadata": {},
     "output_type": "display_data"
    }
   ],
   "source": [
    "plt.scatter(x_train,y_train , color='black')\n",
    "plt.show()\n"
   ]
  },
  {
   "cell_type": "markdown",
   "metadata": {},
   "source": [
    "# model 3 #"
   ]
  },
  {
   "cell_type": "markdown",
   "metadata": {},
   "source": [
    "## ols way ##"
   ]
  },
  {
   "cell_type": "code",
   "execution_count": null,
   "metadata": {
    "collapsed": false
   },
   "outputs": [],
   "source": [
    "df2 = pd.read_csv('/home/user/Documents/Ex01_Kepler_Regression.csv')\n",
    "df2['SemiMajorAxis'] = np.log(df2['SemiMajorAxis'])\n",
    "df2['OrbitalPeriod'] = np.log(df2['OrbitalPeriod'])"
   ]
  },
  {
   "cell_type": "code",
   "execution_count": null,
   "metadata": {
    "collapsed": true
   },
   "outputs": [],
   "source": [
    "train = df2[ : 80]\n",
    "test = df2[80 : ]"
   ]
  },
  {
   "cell_type": "code",
   "execution_count": null,
   "metadata": {
    "collapsed": false
   },
   "outputs": [],
   "source": [
    "result = sm.ols(formula=\"OrbitalPeriod~ SemiMajorAxis\",data=train).fit()"
   ]
  },
  {
   "cell_type": "code",
   "execution_count": null,
   "metadata": {
    "collapsed": false,
    "scrolled": true
   },
   "outputs": [],
   "source": [
    "predict_ols = result.predict(test)\n",
    "plt.scatter(predict_ols, test['OrbitalPeriod'], color = 'r')\n",
    "plt.show()\n"
   ]
  }
 ],
 "metadata": {
  "kernelspec": {
   "display_name": "Python 3",
   "language": "python",
   "name": "python3"
  },
  "language_info": {
   "codemirror_mode": {
    "name": "ipython",
    "version": 3
   },
   "file_extension": ".py",
   "mimetype": "text/x-python",
   "name": "python",
   "nbconvert_exporter": "python",
   "pygments_lexer": "ipython3",
   "version": "3.6.0"
  }
 },
 "nbformat": 4,
 "nbformat_minor": 2
}
