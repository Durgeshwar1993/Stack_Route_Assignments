{
 "cells": [
  {
   "cell_type": "markdown",
   "metadata": {},
   "source": [
    "# part 2 #"
   ]
  },
  {
   "cell_type": "markdown",
   "metadata": {},
   "source": [
    "# Array Creation #"
   ]
  },
  {
   "cell_type": "code",
   "execution_count": 5,
   "metadata": {
    "collapsed": true
   },
   "outputs": [],
   "source": [
    "import numpy as np"
   ]
  },
  {
   "cell_type": "code",
   "execution_count": 123,
   "metadata": {
    "collapsed": false
   },
   "outputs": [
    {
     "ename": "NameError",
     "evalue": "name 'tril' is not defined",
     "output_type": "error",
     "traceback": [
      "\u001b[0;31m---------------------------------------------------------------------------\u001b[0m",
      "\u001b[0;31mNameError\u001b[0m                                 Traceback (most recent call last)",
      "\u001b[0;32m<ipython-input-123-91279eb43de1>\u001b[0m in \u001b[0;36m<module>\u001b[0;34m()\u001b[0m\n\u001b[1;32m      1\u001b[0m \u001b[0ma\u001b[0m \u001b[0;34m=\u001b[0m \u001b[0;34m[\u001b[0m\u001b[0;34m[\u001b[0m\u001b[0;36m1\u001b[0m\u001b[0;34m,\u001b[0m\u001b[0;36m2\u001b[0m\u001b[0;34m,\u001b[0m\u001b[0;36m3\u001b[0m\u001b[0;34m]\u001b[0m\u001b[0;34m,\u001b[0m\u001b[0;34m[\u001b[0m\u001b[0;36m9\u001b[0m\u001b[0;34m,\u001b[0m\u001b[0;36m7\u001b[0m\u001b[0;34m,\u001b[0m\u001b[0;36m4\u001b[0m\u001b[0;34m]\u001b[0m\u001b[0;34m,\u001b[0m\u001b[0;34m[\u001b[0m\u001b[0;34m-\u001b[0m\u001b[0;36m30\u001b[0m\u001b[0;34m,\u001b[0m\u001b[0;34m-\u001b[0m\u001b[0;36m7\u001b[0m\u001b[0;34m,\u001b[0m\u001b[0;34m-\u001b[0m\u001b[0;36m6\u001b[0m\u001b[0;34m]\u001b[0m\u001b[0;34m]\u001b[0m\u001b[0;34m\u001b[0m\u001b[0m\n\u001b[0;32m----> 2\u001b[0;31m \u001b[0mtril\u001b[0m\u001b[0;34m(\u001b[0m\u001b[0ma\u001b[0m\u001b[0;34m)\u001b[0m\u001b[0;34m\u001b[0m\u001b[0m\n\u001b[0m\u001b[1;32m      3\u001b[0m \u001b[0;34m\u001b[0m\u001b[0m\n",
      "\u001b[0;31mNameError\u001b[0m: name 'tril' is not defined"
     ]
    }
   ],
   "source": [
    "a = [[1,2,3],[9,7,4],[-30,-7,-6]]\n",
    "tril(a)\n",
    "\n"
   ]
  },
  {
   "cell_type": "markdown",
   "metadata": {},
   "source": [
    "# min #"
   ]
  },
  {
   "cell_type": "code",
   "execution_count": 9,
   "metadata": {
    "collapsed": false
   },
   "outputs": [],
   "source": [
    "def min_value(a):\n",
    "    min_vl = a[0][0]\n",
    "    for i  in list(range(len(a))):\n",
    "        for j in list(range(len(a[i]))):\n",
    "            if min_vl > a[i][j]:\n",
    "                min_vl = a[i][j]\n",
    "    return min_vl"
   ]
  },
  {
   "cell_type": "markdown",
   "metadata": {},
   "source": [
    "# max #"
   ]
  },
  {
   "cell_type": "code",
   "execution_count": 62,
   "metadata": {
    "collapsed": false
   },
   "outputs": [],
   "source": [
    "def max_value(a):\n",
    "    max_vl = a[0][0]\n",
    "    for i  in list(range(len(a))):\n",
    "        for j in list(range(len(a[i]))):\n",
    "            if max_vl < a[i][j]:\n",
    "                max_vl = a[i][j]\n",
    "    return max_vl          "
   ]
  },
  {
   "cell_type": "markdown",
   "metadata": {},
   "source": [
    "# mean #\n"
   ]
  },
  {
   "cell_type": "code",
   "execution_count": 26,
   "metadata": {
    "collapsed": false
   },
   "outputs": [],
   "source": [
    "def mean(a):\n",
    "    max_vl = 0\n",
    "    sum1 = 0\n",
    "    for i  in list(range(len(a))):\n",
    "        for j in list(range(len(a[i]))):\n",
    "            sum1=sum1 + a[i][j]\n",
    "    return (sum1/(((len(a)))*(len(a[0]))))\n"
   ]
  },
  {
   "cell_type": "markdown",
   "metadata": {},
   "source": [
    "# argmin #"
   ]
  },
  {
   "cell_type": "code",
   "execution_count": 39,
   "metadata": {
    "collapsed": false
   },
   "outputs": [],
   "source": [
    "def argmin(a):\n",
    "    min_vl = a[0][0]\n",
    "    n=0\n",
    "    minc = 0\n",
    "    for i  in list(range(len(a))):\n",
    "        for j in list(range(len(a[i]))):\n",
    "            n=n+1\n",
    "            if min_vl > a[i][j]:\n",
    "                min_vl = a[i][j]\n",
    "                minc = n\n",
    "                \n",
    "                \n",
    "    return minc\n",
    "    "
   ]
  },
  {
   "cell_type": "markdown",
   "metadata": {},
   "source": [
    "# flatten #"
   ]
  },
  {
   "cell_type": "code",
   "execution_count": 42,
   "metadata": {
    "collapsed": true
   },
   "outputs": [],
   "source": [
    "def flatten(a):\n",
    "    ls=[]\n",
    "    for i  in list(range(len(a))):\n",
    "        for j in list(range(len(a[i]))):\n",
    "            ls.append(a[i][j])\n",
    "    return ls\n",
    "    "
   ]
  },
  {
   "cell_type": "markdown",
   "metadata": {},
   "source": [
    "# raval #\n"
   ]
  },
  {
   "cell_type": "code",
   "execution_count": 7,
   "metadata": {
    "collapsed": true
   },
   "outputs": [],
   "source": [
    "def raval(a):\n",
    "    ls=[]\n",
    "    for i  in list(range(len(a))):\n",
    "        for j in list(range(len(a[i]))):\n",
    "            ls.append(a[i][j])\n",
    "    return ls"
   ]
  },
  {
   "cell_type": "markdown",
   "metadata": {},
   "source": [
    "# dot product #"
   ]
  },
  {
   "cell_type": "code",
   "execution_count": 50,
   "metadata": {
    "collapsed": false
   },
   "outputs": [],
   "source": [
    "def multiply(a,b):\n",
    "    c = []\n",
    "    for i in list(range(len(a))):\n",
    "        w = []\n",
    "        for j in list(range(len(b[0]))):\n",
    "            s = 0\n",
    "            for k in list(range(len(a[0]))):\n",
    "                s = s + (a[i][k] * b[k][j]) \n",
    "            w.append(s)\n",
    "        c.append(w)    \n",
    "    return(c)\n",
    "   \n",
    "    "
   ]
  },
  {
   "cell_type": "markdown",
   "metadata": {
    "collapsed": true
   },
   "source": [
    "# elementwise multiplication #"
   ]
  },
  {
   "cell_type": "markdown",
   "metadata": {},
   "source": [
    "def elem_mul(p,q):\n",
    "    c = []\n",
    "    for i in list(range(len(p))):\n",
    "        d=[]\n",
    "        for j in list(range(len(q))):\n",
    "            s=p[i][j]*q[i][j]\n",
    "            d.append(s)\n",
    "        c.append(d)\n",
    "    return(c)"
   ]
  },
  {
   "cell_type": "markdown",
   "metadata": {},
   "source": [
    "# arange followed by reshape #"
   ]
  },
  {
   "cell_type": "code",
   "execution_count": 66,
   "metadata": {
    "collapsed": false
   },
   "outputs": [],
   "source": [
    " def reshape(n,p,q):\n",
    "    c = []\n",
    "    l=0\n",
    "    for i in range(p):\n",
    "        d = []\n",
    "        for j in range(l,q+l):\n",
    "            d.append(j)\n",
    "            l=j \n",
    "        l+=1 \n",
    "        c.append(d)\n",
    "    return(c)\n",
    "        \n",
    "        \n",
    "        "
   ]
  },
  {
   "cell_type": "markdown",
   "metadata": {},
   "source": [
    "# identity #"
   ]
  },
  {
   "cell_type": "code",
   "execution_count": 76,
   "metadata": {
    "collapsed": false
   },
   "outputs": [],
   "source": [
    " def identity(a):\n",
    "    c = [] \n",
    "    for i  in range(a):\n",
    "        d = []\n",
    "        for j in range(a):\n",
    "            if j==i: \n",
    "                d.append(1)\n",
    "            else :\n",
    "                d.append(0)\n",
    "        c.append(d)\n",
    "    return(c)       \n",
    "    \n",
    "    "
   ]
  },
  {
   "cell_type": "markdown",
   "metadata": {},
   "source": [
    "# sum #"
   ]
  },
  {
   "cell_type": "code",
   "execution_count": 102,
   "metadata": {
    "collapsed": true
   },
   "outputs": [],
   "source": [
    "def sum1(a):\n",
    "    \n",
    "    d = []\n",
    "    \n",
    "    for i in list(range(len(a))):\n",
    "        \n",
    "        sum1=0\n",
    "        \n",
    "        for j in list(range(len(a))):\n",
    "            \n",
    "            sum1=sum1+a[i][j]\n",
    "            \n",
    "        d.append(sum1)\n",
    "    return(d)\n",
    "    "
   ]
  },
  {
   "cell_type": "markdown",
   "metadata": {},
   "source": [
    "# diog #"
   ]
  },
  {
   "cell_type": "code",
   "execution_count": 104,
   "metadata": {
    "collapsed": true
   },
   "outputs": [],
   "source": [
    "def diog(a):\n",
    "    d =[]\n",
    "    for i in list(range(len(a))):\n",
    "        for j in list(range(len(a))):\n",
    "            if i==j:\n",
    "                d.append(a[i][j])\n",
    "    return(d)\n",
    "        "
   ]
  },
  {
   "cell_type": "markdown",
   "metadata": {},
   "source": [
    "# tril #"
   ]
  },
  {
   "cell_type": "code",
   "execution_count": 124,
   "metadata": {
    "collapsed": false
   },
   "outputs": [],
   "source": [
    "def tril(a):\n",
    "    d = []\n",
    "    n=0\n",
    "    for i in list(range(len(a))):\n",
    "        c = []\n",
    "        for j in list(range(len(a))):\n",
    "            #c = []\n",
    "            if i+1==j:\n",
    "                for k in list(range(len(a)-(i+1))):\n",
    "                    c.append(0)\n",
    "                break;\n",
    "            else:\n",
    "                c.append(a[i][j])\n",
    "    \n",
    "        d.append(c)\n",
    "    return d\n",
    "                "
   ]
  },
  {
   "cell_type": "code",
   "execution_count": null,
   "metadata": {
    "collapsed": true
   },
   "outputs": [],
   "source": []
  }
 ],
 "metadata": {
  "kernelspec": {
   "display_name": "Python 3",
   "language": "python",
   "name": "python3"
  },
  "language_info": {
   "codemirror_mode": {
    "name": "ipython",
    "version": 3
   },
   "file_extension": ".py",
   "mimetype": "text/x-python",
   "name": "python",
   "nbconvert_exporter": "python",
   "pygments_lexer": "ipython3",
   "version": "3.6.0"
  }
 },
 "nbformat": 4,
 "nbformat_minor": 2
}
